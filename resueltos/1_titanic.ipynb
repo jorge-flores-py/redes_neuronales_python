{
  "cells": [
    {
      "cell_type": "markdown",
      "metadata": {
        "id": "67RBrvkUviuj"
      },
      "source": [
        "<a href=\"https://www.inove.com.ar\"><img src=\"https://raw.githubusercontent.com/InoveAlumnos/dataset_analytics_python/master/images/PA%20Banner.png\" width=\"1000\" align=\"center\"></a>\n",
        "\n",
        "\n",
        "# Ejercicio de clasificación con titanic dataset\n",
        "\n",
        "Ejemplo de clasificación utilizando el dataset de titanic<br>\n",
        "\n",
        "v1.1"
      ]
    },
    {
      "cell_type": "code",
      "execution_count": 2,
      "metadata": {
        "id": "y2sSeyEovSw-"
      },
      "outputs": [],
      "source": [
        "import os\n",
        "import platform\n",
        "\n",
        "import numpy as np\n",
        "import matplotlib.pyplot as plt\n",
        "import seaborn as sns\n",
        "import pandas as pd\n",
        "\n",
        "import keras\n",
        "from keras.models import Sequential\n",
        "from keras.utils import to_categorical  \n",
        "#from keras.utils.np_utils import to_categorical # Si esto no funciona, probar con el import anterior"
      ]
    },
    {
      "cell_type": "markdown",
      "metadata": {
        "id": "7Szo7P_3v00C"
      },
      "source": [
        "# Recolectar datos\n",
        "<img src=\"https://raw.githubusercontent.com/InoveAlumnos/dataset_analytics_python/master/images/Pipeline1.png\" width=\"1000\" align=\"middle\">"
      ]
    },
    {
      "cell_type": "code",
      "execution_count": 3,
      "metadata": {
        "colab": {
          "base_uri": "https://localhost:8080/"
        },
        "id": "HnVpNGuAvyFi",
        "outputId": "bd35f343-5f2e-4d6d-8de4-45beb99c8d57"
      },
      "outputs": [],
      "source": [
        "if os.access('titanic.csv', os.F_OK) is False:\n",
        "    if platform.system() == 'Windows':\n",
        "        !curl https://raw.githubusercontent.com/InoveAlumnos/dataset_analytics_python/master/titanic.csv > titanic.csv\n",
        "    else:\n",
        "        !wget titanic.csv https://raw.githubusercontent.com/InoveAlumnos/dataset_analytics_python/master/titanic.csv"
      ]
    },
    {
      "cell_type": "markdown",
      "metadata": {
        "id": "BbNSgxdfw0ix"
      },
      "source": [
        "### `titanic.csv`:\n",
        "El dataset **`titanic.csv`** contiene datos sobre los pasajeros que estuvieron en el titanic y si finalmente sobrevivieron o nó al viaje.<br>\n",
        "- **Passengerid** --> id del pasajero, ejemplo 5\n",
        "- **Survived** --> sobrevivió? 1(Si), 0(No)\n",
        "- **Pclass** --> clase (1, 2, 3)\n",
        "- **Name** --> nombre\n",
        "- **Sex** --> genero, ejemplo male(masculino), female(femenino)\n",
        "- **Age** --> edad\n",
        "- **Siblings** --> Hermanos y esposas/esposos abordo\n",
        "- **Parch** --> Hijos abordo\n",
        "- **Ticket** --> Nº de ticket\n",
        "- **Fare** --> tarifa del ticket\n",
        "- **Cabine** --> Nº de cabina\n",
        "- **Embarked** --> Puerto de embarque (C = Cherbourg; Q = Queenstown; S = Southampton)\n"
      ]
    },
    {
      "cell_type": "markdown",
      "metadata": {
        "id": "NHHsGe1Qypde"
      },
      "source": [
        "# Procesar datos\n",
        "<img src=\"https://raw.githubusercontent.com/InoveAlumnos/dataset_analytics_python/master/images/Pipeline2.png\" width=\"1000\" align=\"middle\">"
      ]
    },
    {
      "cell_type": "code",
      "execution_count": 5,
      "metadata": {
        "colab": {
          "base_uri": "https://localhost:8080/",
          "height": 363
        },
        "id": "uvzaKBMbyoiy",
        "outputId": "ba206862-a5a4-4eaf-b4d8-3f1f5baee2ef"
      },
      "outputs": [
        {
          "data": {
            "text/html": [
              "<div>\n",
              "<style scoped>\n",
              "    .dataframe tbody tr th:only-of-type {\n",
              "        vertical-align: middle;\n",
              "    }\n",
              "\n",
              "    .dataframe tbody tr th {\n",
              "        vertical-align: top;\n",
              "    }\n",
              "\n",
              "    .dataframe thead th {\n",
              "        text-align: right;\n",
              "    }\n",
              "</style>\n",
              "<table border=\"1\" class=\"dataframe\">\n",
              "  <thead>\n",
              "    <tr style=\"text-align: right;\">\n",
              "      <th></th>\n",
              "      <th>PassengerId</th>\n",
              "      <th>Survived</th>\n",
              "      <th>Pclass</th>\n",
              "      <th>Age</th>\n",
              "      <th>SibSp</th>\n",
              "      <th>Parch</th>\n",
              "      <th>Fare</th>\n",
              "    </tr>\n",
              "  </thead>\n",
              "  <tbody>\n",
              "    <tr>\n",
              "      <th>count</th>\n",
              "      <td>891.000000</td>\n",
              "      <td>891.000000</td>\n",
              "      <td>891.000000</td>\n",
              "      <td>714.000000</td>\n",
              "      <td>891.000000</td>\n",
              "      <td>891.000000</td>\n",
              "      <td>891.000000</td>\n",
              "    </tr>\n",
              "    <tr>\n",
              "      <th>mean</th>\n",
              "      <td>446.000000</td>\n",
              "      <td>0.383838</td>\n",
              "      <td>2.308642</td>\n",
              "      <td>29.699118</td>\n",
              "      <td>0.523008</td>\n",
              "      <td>0.381594</td>\n",
              "      <td>32.204208</td>\n",
              "    </tr>\n",
              "    <tr>\n",
              "      <th>std</th>\n",
              "      <td>257.353842</td>\n",
              "      <td>0.486592</td>\n",
              "      <td>0.836071</td>\n",
              "      <td>14.526497</td>\n",
              "      <td>1.102743</td>\n",
              "      <td>0.806057</td>\n",
              "      <td>49.693429</td>\n",
              "    </tr>\n",
              "    <tr>\n",
              "      <th>min</th>\n",
              "      <td>1.000000</td>\n",
              "      <td>0.000000</td>\n",
              "      <td>1.000000</td>\n",
              "      <td>0.420000</td>\n",
              "      <td>0.000000</td>\n",
              "      <td>0.000000</td>\n",
              "      <td>0.000000</td>\n",
              "    </tr>\n",
              "    <tr>\n",
              "      <th>25%</th>\n",
              "      <td>223.500000</td>\n",
              "      <td>0.000000</td>\n",
              "      <td>2.000000</td>\n",
              "      <td>20.125000</td>\n",
              "      <td>0.000000</td>\n",
              "      <td>0.000000</td>\n",
              "      <td>7.910400</td>\n",
              "    </tr>\n",
              "    <tr>\n",
              "      <th>50%</th>\n",
              "      <td>446.000000</td>\n",
              "      <td>0.000000</td>\n",
              "      <td>3.000000</td>\n",
              "      <td>28.000000</td>\n",
              "      <td>0.000000</td>\n",
              "      <td>0.000000</td>\n",
              "      <td>14.454200</td>\n",
              "    </tr>\n",
              "    <tr>\n",
              "      <th>75%</th>\n",
              "      <td>668.500000</td>\n",
              "      <td>1.000000</td>\n",
              "      <td>3.000000</td>\n",
              "      <td>38.000000</td>\n",
              "      <td>1.000000</td>\n",
              "      <td>0.000000</td>\n",
              "      <td>31.000000</td>\n",
              "    </tr>\n",
              "    <tr>\n",
              "      <th>max</th>\n",
              "      <td>891.000000</td>\n",
              "      <td>1.000000</td>\n",
              "      <td>3.000000</td>\n",
              "      <td>80.000000</td>\n",
              "      <td>8.000000</td>\n",
              "      <td>6.000000</td>\n",
              "      <td>512.329200</td>\n",
              "    </tr>\n",
              "    <tr>\n",
              "      <th>Nan</th>\n",
              "      <td>0.000000</td>\n",
              "      <td>0.000000</td>\n",
              "      <td>0.000000</td>\n",
              "      <td>177.000000</td>\n",
              "      <td>0.000000</td>\n",
              "      <td>0.000000</td>\n",
              "      <td>0.000000</td>\n",
              "    </tr>\n",
              "    <tr>\n",
              "      <th>%Nan</th>\n",
              "      <td>0.000000</td>\n",
              "      <td>0.000000</td>\n",
              "      <td>0.000000</td>\n",
              "      <td>19.865320</td>\n",
              "      <td>0.000000</td>\n",
              "      <td>0.000000</td>\n",
              "      <td>0.000000</td>\n",
              "    </tr>\n",
              "  </tbody>\n",
              "</table>\n",
              "</div>"
            ],
            "text/plain": [
              "       PassengerId    Survived      Pclass         Age       SibSp   \n",
              "count   891.000000  891.000000  891.000000  714.000000  891.000000  \\\n",
              "mean    446.000000    0.383838    2.308642   29.699118    0.523008   \n",
              "std     257.353842    0.486592    0.836071   14.526497    1.102743   \n",
              "min       1.000000    0.000000    1.000000    0.420000    0.000000   \n",
              "25%     223.500000    0.000000    2.000000   20.125000    0.000000   \n",
              "50%     446.000000    0.000000    3.000000   28.000000    0.000000   \n",
              "75%     668.500000    1.000000    3.000000   38.000000    1.000000   \n",
              "max     891.000000    1.000000    3.000000   80.000000    8.000000   \n",
              "Nan       0.000000    0.000000    0.000000  177.000000    0.000000   \n",
              "%Nan      0.000000    0.000000    0.000000   19.865320    0.000000   \n",
              "\n",
              "            Parch        Fare  \n",
              "count  891.000000  891.000000  \n",
              "mean     0.381594   32.204208  \n",
              "std      0.806057   49.693429  \n",
              "min      0.000000    0.000000  \n",
              "25%      0.000000    7.910400  \n",
              "50%      0.000000   14.454200  \n",
              "75%      0.000000   31.000000  \n",
              "max      6.000000  512.329200  \n",
              "Nan      0.000000    0.000000  \n",
              "%Nan     0.000000    0.000000  "
            ]
          },
          "execution_count": 5,
          "metadata": {},
          "output_type": "execute_result"
        }
      ],
      "source": [
        "# Alumno, realice una inspeccion del dataset en búsqueda de elementos faltantes\n",
        "df = pd.read_csv(\"titanic.csv\")\n",
        "des = df.describe()\n",
        "des.loc['Nan'] = df.isna().sum()\n",
        "des.loc['%Nan'] = (df.isna().mean())*100\n",
        "des"
      ]
    },
    {
      "cell_type": "code",
      "execution_count": 6,
      "metadata": {
        "colab": {
          "base_uri": "https://localhost:8080/",
          "height": 345
        },
        "id": "Cw9HbE88y3wu",
        "outputId": "4b4fa8b5-d4de-49d8-89aa-3a0651e97cce"
      },
      "outputs": [
        {
          "data": {
            "text/html": [
              "<div>\n",
              "<style scoped>\n",
              "    .dataframe tbody tr th:only-of-type {\n",
              "        vertical-align: middle;\n",
              "    }\n",
              "\n",
              "    .dataframe tbody tr th {\n",
              "        vertical-align: top;\n",
              "    }\n",
              "\n",
              "    .dataframe thead th {\n",
              "        text-align: right;\n",
              "    }\n",
              "</style>\n",
              "<table border=\"1\" class=\"dataframe\">\n",
              "  <thead>\n",
              "    <tr style=\"text-align: right;\">\n",
              "      <th></th>\n",
              "      <th>PassengerId</th>\n",
              "      <th>Survived</th>\n",
              "      <th>Pclass</th>\n",
              "      <th>Name</th>\n",
              "      <th>Sex</th>\n",
              "      <th>Age</th>\n",
              "      <th>SibSp</th>\n",
              "      <th>Parch</th>\n",
              "      <th>Ticket</th>\n",
              "      <th>Fare</th>\n",
              "      <th>Cabin</th>\n",
              "      <th>Embarked</th>\n",
              "    </tr>\n",
              "  </thead>\n",
              "  <tbody>\n",
              "    <tr>\n",
              "      <th>0</th>\n",
              "      <td>1</td>\n",
              "      <td>0</td>\n",
              "      <td>3</td>\n",
              "      <td>Braund, Mr. Owen Harris</td>\n",
              "      <td>male</td>\n",
              "      <td>22.0</td>\n",
              "      <td>1</td>\n",
              "      <td>0</td>\n",
              "      <td>A/5 21171</td>\n",
              "      <td>7.2500</td>\n",
              "      <td>NaN</td>\n",
              "      <td>S</td>\n",
              "    </tr>\n",
              "    <tr>\n",
              "      <th>1</th>\n",
              "      <td>2</td>\n",
              "      <td>1</td>\n",
              "      <td>1</td>\n",
              "      <td>Cumings, Mrs. John Bradley (Florence Briggs Th...</td>\n",
              "      <td>female</td>\n",
              "      <td>38.0</td>\n",
              "      <td>1</td>\n",
              "      <td>0</td>\n",
              "      <td>PC 17599</td>\n",
              "      <td>71.2833</td>\n",
              "      <td>C85</td>\n",
              "      <td>C</td>\n",
              "    </tr>\n",
              "    <tr>\n",
              "      <th>2</th>\n",
              "      <td>3</td>\n",
              "      <td>1</td>\n",
              "      <td>3</td>\n",
              "      <td>Heikkinen, Miss. Laina</td>\n",
              "      <td>female</td>\n",
              "      <td>26.0</td>\n",
              "      <td>0</td>\n",
              "      <td>0</td>\n",
              "      <td>STON/O2. 3101282</td>\n",
              "      <td>7.9250</td>\n",
              "      <td>NaN</td>\n",
              "      <td>S</td>\n",
              "    </tr>\n",
              "    <tr>\n",
              "      <th>3</th>\n",
              "      <td>4</td>\n",
              "      <td>1</td>\n",
              "      <td>1</td>\n",
              "      <td>Futrelle, Mrs. Jacques Heath (Lily May Peel)</td>\n",
              "      <td>female</td>\n",
              "      <td>35.0</td>\n",
              "      <td>1</td>\n",
              "      <td>0</td>\n",
              "      <td>113803</td>\n",
              "      <td>53.1000</td>\n",
              "      <td>C123</td>\n",
              "      <td>S</td>\n",
              "    </tr>\n",
              "    <tr>\n",
              "      <th>4</th>\n",
              "      <td>5</td>\n",
              "      <td>0</td>\n",
              "      <td>3</td>\n",
              "      <td>Allen, Mr. William Henry</td>\n",
              "      <td>male</td>\n",
              "      <td>35.0</td>\n",
              "      <td>0</td>\n",
              "      <td>0</td>\n",
              "      <td>373450</td>\n",
              "      <td>8.0500</td>\n",
              "      <td>NaN</td>\n",
              "      <td>S</td>\n",
              "    </tr>\n",
              "  </tbody>\n",
              "</table>\n",
              "</div>"
            ],
            "text/plain": [
              "   PassengerId  Survived  Pclass   \n",
              "0            1         0       3  \\\n",
              "1            2         1       1   \n",
              "2            3         1       3   \n",
              "3            4         1       1   \n",
              "4            5         0       3   \n",
              "\n",
              "                                                Name     Sex   Age  SibSp   \n",
              "0                            Braund, Mr. Owen Harris    male  22.0      1  \\\n",
              "1  Cumings, Mrs. John Bradley (Florence Briggs Th...  female  38.0      1   \n",
              "2                             Heikkinen, Miss. Laina  female  26.0      0   \n",
              "3       Futrelle, Mrs. Jacques Heath (Lily May Peel)  female  35.0      1   \n",
              "4                           Allen, Mr. William Henry    male  35.0      0   \n",
              "\n",
              "   Parch            Ticket     Fare Cabin Embarked  \n",
              "0      0         A/5 21171   7.2500   NaN        S  \n",
              "1      0          PC 17599  71.2833   C85        C  \n",
              "2      0  STON/O2. 3101282   7.9250   NaN        S  \n",
              "3      0            113803  53.1000  C123        S  \n",
              "4      0            373450   8.0500   NaN        S  "
            ]
          },
          "execution_count": 6,
          "metadata": {},
          "output_type": "execute_result"
        }
      ],
      "source": [
        "# Alumno, inspeccione el dataset, visualice las columnas que posee y sus primeras filas\n",
        "df.head()"
      ]
    },
    {
      "cell_type": "code",
      "execution_count": 7,
      "metadata": {
        "id": "9g4_cql61J5m"
      },
      "outputs": [],
      "source": [
        "# Alumno, del dataset original cree uno nuevo pero\n",
        "# unicamente con las siguientes columnas:\n",
        "# Survived, Pclass, Sex, Age, SibSp, Parch\n",
        "df2 = df[['Pclass', 'Sex', 'Age', 'SibSp', 'Parch', 'Survived']]"
      ]
    },
    {
      "cell_type": "code",
      "execution_count": 8,
      "metadata": {
        "id": "aPr3AkXM1DkO"
      },
      "outputs": [],
      "source": [
        "# Alumno, en caso de encontrarse elementos faltantes,\n",
        "# elimine aquellas filas que tengan columnas vacias\n",
        "# Escriba el procedimiento tenga o no elementos faltantes\n",
        "df2 = df2.dropna()"
      ]
    },
    {
      "cell_type": "code",
      "execution_count": 9,
      "metadata": {
        "colab": {
          "base_uri": "https://localhost:8080/"
        },
        "id": "LirgXKpiy8dr",
        "outputId": "04d76b6f-03f8-4ff9-e944-88a525f837e7"
      },
      "outputs": [
        {
          "name": "stdout",
          "output_type": "stream",
          "text": [
            "Cantidad de datos en observacion: 714\n"
          ]
        }
      ],
      "source": [
        "# Alumno: Fin de la limpieza, especifique cuantas filas se poseen para analizar\n",
        "print('Cantidad de datos en observacion:', df2.shape[0])"
      ]
    },
    {
      "cell_type": "markdown",
      "metadata": {
        "id": "0BnzYdlRzBxz"
      },
      "source": [
        "# Explorar datos\n",
        "<img src=\"https://raw.githubusercontent.com/InoveAlumnos/dataset_analytics_python/master/images/Pipeline3.png\" width=\"1000\" align=\"middle\">"
      ]
    },
    {
      "cell_type": "code",
      "execution_count": 8,
      "metadata": {
        "colab": {
          "base_uri": "https://localhost:8080/",
          "height": 206
        },
        "id": "ujLgPJYo18IR",
        "outputId": "c581f008-07f7-44a0-d99a-d56f93ae306c"
      },
      "outputs": [
        {
          "data": {
            "text/html": [
              "<div>\n",
              "<style scoped>\n",
              "    .dataframe tbody tr th:only-of-type {\n",
              "        vertical-align: middle;\n",
              "    }\n",
              "\n",
              "    .dataframe tbody tr th {\n",
              "        vertical-align: top;\n",
              "    }\n",
              "\n",
              "    .dataframe thead th {\n",
              "        text-align: right;\n",
              "    }\n",
              "</style>\n",
              "<table border=\"1\" class=\"dataframe\">\n",
              "  <thead>\n",
              "    <tr style=\"text-align: right;\">\n",
              "      <th></th>\n",
              "      <th>Pclass</th>\n",
              "      <th>Sex</th>\n",
              "      <th>Age</th>\n",
              "      <th>SibSp</th>\n",
              "      <th>Parch</th>\n",
              "      <th>Survived</th>\n",
              "    </tr>\n",
              "  </thead>\n",
              "  <tbody>\n",
              "    <tr>\n",
              "      <th>0</th>\n",
              "      <td>3</td>\n",
              "      <td>male</td>\n",
              "      <td>22.0</td>\n",
              "      <td>1</td>\n",
              "      <td>0</td>\n",
              "      <td>0</td>\n",
              "    </tr>\n",
              "    <tr>\n",
              "      <th>1</th>\n",
              "      <td>1</td>\n",
              "      <td>female</td>\n",
              "      <td>38.0</td>\n",
              "      <td>1</td>\n",
              "      <td>0</td>\n",
              "      <td>1</td>\n",
              "    </tr>\n",
              "    <tr>\n",
              "      <th>2</th>\n",
              "      <td>3</td>\n",
              "      <td>female</td>\n",
              "      <td>26.0</td>\n",
              "      <td>0</td>\n",
              "      <td>0</td>\n",
              "      <td>1</td>\n",
              "    </tr>\n",
              "    <tr>\n",
              "      <th>3</th>\n",
              "      <td>1</td>\n",
              "      <td>female</td>\n",
              "      <td>35.0</td>\n",
              "      <td>1</td>\n",
              "      <td>0</td>\n",
              "      <td>1</td>\n",
              "    </tr>\n",
              "    <tr>\n",
              "      <th>4</th>\n",
              "      <td>3</td>\n",
              "      <td>male</td>\n",
              "      <td>35.0</td>\n",
              "      <td>0</td>\n",
              "      <td>0</td>\n",
              "      <td>0</td>\n",
              "    </tr>\n",
              "  </tbody>\n",
              "</table>\n",
              "</div>"
            ],
            "text/plain": [
              "   Pclass     Sex   Age  SibSp  Parch  Survived\n",
              "0       3    male  22.0      1      0         0\n",
              "1       1  female  38.0      1      0         1\n",
              "2       3  female  26.0      0      0         1\n",
              "3       1  female  35.0      1      0         1\n",
              "4       3    male  35.0      0      0         0"
            ]
          },
          "execution_count": 8,
          "metadata": {},
          "output_type": "execute_result"
        }
      ],
      "source": [
        "# Alumno, inspeccione el dataset, visualice las columnas que posee y sus primeras filas\n",
        "df2.head()"
      ]
    },
    {
      "cell_type": "code",
      "execution_count": 10,
      "metadata": {
        "colab": {
          "base_uri": "https://localhost:8080/"
        },
        "id": "yH6oDykAzBMG",
        "outputId": "a294daed-19c8-4076-ede6-91b9cfaac494"
      },
      "outputs": [
        {
          "data": {
            "text/plain": [
              "Survived\n",
              "0    424\n",
              "1    290\n",
              "Name: count, dtype: int64"
            ]
          },
          "execution_count": 10,
          "metadata": {},
          "output_type": "execute_result"
        }
      ],
      "source": [
        "# Alumno: Explorar que tan balanceado está el dataset,\n",
        "# determinar cuantas personas sobrivivieron o nó\n",
        "df2['Survived'].value_counts()"
      ]
    },
    {
      "cell_type": "code",
      "execution_count": 11,
      "metadata": {
        "colab": {
          "base_uri": "https://localhost:8080/",
          "height": 279
        },
        "id": "u5cQJRWdzTk3",
        "outputId": "090bb57b-e873-49ca-aa16-8ad2b785659b"
      },
      "outputs": [
        {
          "data": {
            "image/png": "[encoded data removed]",
            "text/plain": [
              "<Figure size 640x480 with 1 Axes>"
            ]
          },
          "metadata": {},
          "output_type": "display_data"
        }
      ],
      "source": [
        "ax = sns.countplot(data=df2, x=\"Survived\")"
      ]
    },
    {
      "cell_type": "code",
      "execution_count": 11,
      "metadata": {
        "colab": {
          "base_uri": "https://localhost:8080/",
          "height": 279
        },
        "id": "uPNDkywTzazk",
        "outputId": "f4e5cb39-6606-444b-b7b4-0b9eb783d0d4"
      },
      "outputs": [
        {
          "data": {
            "image/png": "[encoded data removed]",
            "text/plain": [
              "<Figure size 432x288 with 1 Axes>"
            ]
          },
          "metadata": {
            "needs_background": "light"
          },
          "output_type": "display_data"
        }
      ],
      "source": [
        "# Alumno: Determinar cuantas personas sobrevivieron\n",
        "# diferenciando por género\n",
        "# Utilice el gráfico de seaborn countplot con hue=\"Sex\"\n",
        "ax = sns.countplot(x=df2['Survived'].replace({0: 'No', 1: 'Si'}), hue=df2['Sex'])"
      ]
    },
    {
      "cell_type": "code",
      "execution_count": 12,
      "metadata": {
        "colab": {
          "base_uri": "https://localhost:8080/",
          "height": 279
        },
        "id": "WWbxZLQ5ytEP",
        "outputId": "7be10a58-def2-40cc-de44-4b3fe5e14acf"
      },
      "outputs": [
        {
          "data": {
            "image/png": "[encoded data removed]",
            "text/plain": [
              "<Figure size 432x288 with 1 Axes>"
            ]
          },
          "metadata": {
            "needs_background": "light"
          },
          "output_type": "display_data"
        }
      ],
      "source": [
        "# Alumno: Determinar cuantas personas había de cada clase\n",
        "# Utilice el gráfico de seaborn countplot\n",
        "ax = sns.countplot(data=df2, x='Pclass')"
      ]
    },
    {
      "cell_type": "code",
      "execution_count": 13,
      "metadata": {
        "colab": {
          "base_uri": "https://localhost:8080/",
          "height": 279
        },
        "id": "aF9zLuKvzAx4",
        "outputId": "6dd685d0-a12e-460f-8b12-3fdc8d0a79b6"
      },
      "outputs": [
        {
          "data": {
            "image/png": "[encoded data removed]",
            "text/plain": [
              "<Figure size 432x288 with 1 Axes>"
            ]
          },
          "metadata": {
            "needs_background": "light"
          },
          "output_type": "display_data"
        }
      ],
      "source": [
        "# Alumno: Determinar cuantas personas había de cada clase\n",
        "# diferenciando por género\n",
        "# Utilice el gráfico de seaborn countplot con hue=\"Sex\"\n",
        "ax = sns.countplot(data=df2, x='Pclass', hue='Sex')"
      ]
    },
    {
      "cell_type": "markdown",
      "metadata": {
        "id": "ZdfLMthm0yyY"
      },
      "source": [
        "#### Transformar variables categóricas texto a clases numeradas"
      ]
    },
    {
      "cell_type": "code",
      "execution_count": 13,
      "metadata": {
        "id": "GJlDmX_F1ksA"
      },
      "outputs": [],
      "source": [
        "from sklearn.preprocessing import LabelEncoder"
      ]
    },
    {
      "cell_type": "code",
      "execution_count": 14,
      "metadata": {
        "id": "F92KfUW_2CSB"
      },
      "outputs": [],
      "source": [
        "# Alumno, cree un dataset df_cod como copia del que viene trabajando\n",
        "df_cod = df2.copy()"
      ]
    },
    {
      "cell_type": "code",
      "execution_count": 15,
      "metadata": {
        "colab": {
          "base_uri": "https://localhost:8080/",
          "height": 206
        },
        "id": "Lqa4Qq9dEGzr",
        "outputId": "59147194-2cbb-4cd5-b5c7-f2e956aee164"
      },
      "outputs": [
        {
          "data": {
            "text/html": [
              "<div>\n",
              "<style scoped>\n",
              "    .dataframe tbody tr th:only-of-type {\n",
              "        vertical-align: middle;\n",
              "    }\n",
              "\n",
              "    .dataframe tbody tr th {\n",
              "        vertical-align: top;\n",
              "    }\n",
              "\n",
              "    .dataframe thead th {\n",
              "        text-align: right;\n",
              "    }\n",
              "</style>\n",
              "<table border=\"1\" class=\"dataframe\">\n",
              "  <thead>\n",
              "    <tr style=\"text-align: right;\">\n",
              "      <th></th>\n",
              "      <th>Pclass</th>\n",
              "      <th>Sex</th>\n",
              "      <th>Age</th>\n",
              "      <th>SibSp</th>\n",
              "      <th>Parch</th>\n",
              "      <th>Survived</th>\n",
              "    </tr>\n",
              "  </thead>\n",
              "  <tbody>\n",
              "    <tr>\n",
              "      <th>0</th>\n",
              "      <td>3</td>\n",
              "      <td>1</td>\n",
              "      <td>22.0</td>\n",
              "      <td>1</td>\n",
              "      <td>0</td>\n",
              "      <td>0</td>\n",
              "    </tr>\n",
              "    <tr>\n",
              "      <th>1</th>\n",
              "      <td>1</td>\n",
              "      <td>0</td>\n",
              "      <td>38.0</td>\n",
              "      <td>1</td>\n",
              "      <td>0</td>\n",
              "      <td>1</td>\n",
              "    </tr>\n",
              "    <tr>\n",
              "      <th>2</th>\n",
              "      <td>3</td>\n",
              "      <td>0</td>\n",
              "      <td>26.0</td>\n",
              "      <td>0</td>\n",
              "      <td>0</td>\n",
              "      <td>1</td>\n",
              "    </tr>\n",
              "    <tr>\n",
              "      <th>3</th>\n",
              "      <td>1</td>\n",
              "      <td>0</td>\n",
              "      <td>35.0</td>\n",
              "      <td>1</td>\n",
              "      <td>0</td>\n",
              "      <td>1</td>\n",
              "    </tr>\n",
              "    <tr>\n",
              "      <th>4</th>\n",
              "      <td>3</td>\n",
              "      <td>1</td>\n",
              "      <td>35.0</td>\n",
              "      <td>0</td>\n",
              "      <td>0</td>\n",
              "      <td>0</td>\n",
              "    </tr>\n",
              "  </tbody>\n",
              "</table>\n",
              "</div>"
            ],
            "text/plain": [
              "   Pclass  Sex   Age  SibSp  Parch  Survived\n",
              "0       3    1  22.0      1      0         0\n",
              "1       1    0  38.0      1      0         1\n",
              "2       3    0  26.0      0      0         1\n",
              "3       1    0  35.0      1      0         1\n",
              "4       3    1  35.0      0      0         0"
            ]
          },
          "execution_count": 15,
          "metadata": {},
          "output_type": "execute_result"
        }
      ],
      "source": [
        "# Utiliza el LabelEncoder para codificar la columna Sex, remplazando\n",
        "# esa columna por la nueva en el dataset nuevo que acaba de generar\n",
        "# Recuerde conservar el encoder!\n",
        "le = LabelEncoder()\n",
        "label_encoding = le.fit_transform(df_cod['Sex'])\n",
        "df_cod['Sex'] = label_encoding\n",
        "df_cod.head()"
      ]
    },
    {
      "cell_type": "code",
      "execution_count": 17,
      "metadata": {
        "colab": {
          "base_uri": "https://localhost:8080/"
        },
        "id": "WNnJf9vG2dad",
        "outputId": "019a8dd3-2626-47f9-b119-58299de04341"
      },
      "outputs": [
        {
          "data": {
            "text/plain": [
              "array(['female', 'male'], dtype=object)"
            ]
          },
          "execution_count": 17,
          "metadata": {},
          "output_type": "execute_result"
        }
      ],
      "source": [
        "# Alumno,  imprimir las clases que ha detectado su encoder\n",
        "# (debe llamar al atributo classes_)\n",
        "le.classes_"
      ]
    },
    {
      "cell_type": "code",
      "execution_count": 18,
      "metadata": {
        "colab": {
          "base_uri": "https://localhost:8080/",
          "height": 387
        },
        "id": "MoTnc2ayGzha",
        "outputId": "9c5730bf-a98d-4f43-8b7e-7032b91c2854"
      },
      "outputs": [
        {
          "data": {
            "text/plain": [
              "<seaborn.axisgrid.FacetGrid at 0x7fe1e90fda90>"
            ]
          },
          "execution_count": 18,
          "metadata": {},
          "output_type": "execute_result"
        },
        {
          "data": {
            "image/png": "[encoded data removed]",
            "text/plain": [
              "<Figure size 360x360 with 1 Axes>"
            ]
          },
          "metadata": {
            "needs_background": "light"
          },
          "output_type": "display_data"
        }
      ],
      "source": [
        "# Alumno: Analizar la distribución de la edad\n",
        "sns.displot(x=df_cod['Age'])"
      ]
    },
    {
      "cell_type": "code",
      "execution_count": 17,
      "metadata": {
        "id": "Q1pO_7A_HsqA"
      },
      "outputs": [],
      "source": [
        "# Alumno, cree un dataset df_cod como copia del que viene trabajando\n",
        "df_norm = df_cod.copy()"
      ]
    },
    {
      "cell_type": "code",
      "execution_count": 18,
      "metadata": {
        "colab": {
          "base_uri": "https://localhost:8080/",
          "height": 206
        },
        "id": "55eENaMEHKxA",
        "outputId": "f3605abb-ff35-4a88-d793-26d8abf4b868"
      },
      "outputs": [
        {
          "data": {
            "text/html": [
              "<div>\n",
              "<style scoped>\n",
              "    .dataframe tbody tr th:only-of-type {\n",
              "        vertical-align: middle;\n",
              "    }\n",
              "\n",
              "    .dataframe tbody tr th {\n",
              "        vertical-align: top;\n",
              "    }\n",
              "\n",
              "    .dataframe thead th {\n",
              "        text-align: right;\n",
              "    }\n",
              "</style>\n",
              "<table border=\"1\" class=\"dataframe\">\n",
              "  <thead>\n",
              "    <tr style=\"text-align: right;\">\n",
              "      <th></th>\n",
              "      <th>Pclass</th>\n",
              "      <th>Sex</th>\n",
              "      <th>Age</th>\n",
              "      <th>SibSp</th>\n",
              "      <th>Parch</th>\n",
              "      <th>Survived</th>\n",
              "    </tr>\n",
              "  </thead>\n",
              "  <tbody>\n",
              "    <tr>\n",
              "      <th>0</th>\n",
              "      <td>3</td>\n",
              "      <td>1</td>\n",
              "      <td>-0.530377</td>\n",
              "      <td>1</td>\n",
              "      <td>0</td>\n",
              "      <td>0</td>\n",
              "    </tr>\n",
              "    <tr>\n",
              "      <th>1</th>\n",
              "      <td>1</td>\n",
              "      <td>0</td>\n",
              "      <td>0.571831</td>\n",
              "      <td>1</td>\n",
              "      <td>0</td>\n",
              "      <td>1</td>\n",
              "    </tr>\n",
              "    <tr>\n",
              "      <th>2</th>\n",
              "      <td>3</td>\n",
              "      <td>0</td>\n",
              "      <td>-0.254825</td>\n",
              "      <td>0</td>\n",
              "      <td>0</td>\n",
              "      <td>1</td>\n",
              "    </tr>\n",
              "    <tr>\n",
              "      <th>3</th>\n",
              "      <td>1</td>\n",
              "      <td>0</td>\n",
              "      <td>0.365167</td>\n",
              "      <td>1</td>\n",
              "      <td>0</td>\n",
              "      <td>1</td>\n",
              "    </tr>\n",
              "    <tr>\n",
              "      <th>4</th>\n",
              "      <td>3</td>\n",
              "      <td>1</td>\n",
              "      <td>0.365167</td>\n",
              "      <td>0</td>\n",
              "      <td>0</td>\n",
              "      <td>0</td>\n",
              "    </tr>\n",
              "  </tbody>\n",
              "</table>\n",
              "</div>"
            ],
            "text/plain": [
              "   Pclass  Sex       Age  SibSp  Parch  Survived\n",
              "0       3    1 -0.530377      1      0         0\n",
              "1       1    0  0.571831      1      0         1\n",
              "2       3    0 -0.254825      0      0         1\n",
              "3       1    0  0.365167      1      0         1\n",
              "4       3    1  0.365167      0      0         0"
            ]
          },
          "execution_count": 18,
          "metadata": {},
          "output_type": "execute_result"
        }
      ],
      "source": [
        "# Alumno: utilizar StandarScaler para normalizar la column de \"Age\"\n",
        "# Conservar el scaler que lo necesitará para el final\n",
        "from sklearn.preprocessing import StandardScaler\n",
        "scaler = StandardScaler()\n",
        "df_norm.loc[:, 'Age'] = scaler.fit_transform(df_norm[['Age']])\n",
        "df_norm.head()"
      ]
    },
    {
      "cell_type": "markdown",
      "metadata": {
        "id": "7z_SuZlj3gbQ"
      },
      "source": [
        "# Entrenar modelo\n",
        "<img src=\"https://raw.githubusercontent.com/InoveAlumnos/dataset_analytics_python/master/images/Pipeline4.png\" width=\"1000\" align=\"middle\">"
      ]
    },
    {
      "cell_type": "markdown",
      "metadata": {
        "id": "ntY84fHj3q5q"
      },
      "source": [
        "El primer paso es obtener los datos que serán la entrada del sistema (X) y los datos que serán la salida del modelo estimador (y)"
      ]
    },
    {
      "cell_type": "code",
      "execution_count": 19,
      "metadata": {
        "id": "EIg2_OQ43fqZ"
      },
      "outputs": [],
      "source": [
        "# Alumno: genere un numpy array \"X\" que posea todos los feutres (todo menos Survived)\n",
        "# genere un array numpy \"y\" de solo la columna Survived\n",
        "X = df_norm.drop('Survived', axis=1).values\n",
        "y = df_norm['Survived'].values"
      ]
    },
    {
      "cell_type": "code",
      "execution_count": 20,
      "metadata": {
        "colab": {
          "base_uri": "https://localhost:8080/"
        },
        "id": "80EhnBgTJAiU",
        "outputId": "dc74dd38-a125-491d-fad4-303884c0dee0"
      },
      "outputs": [
        {
          "data": {
            "text/plain": [
              "5"
            ]
          },
          "execution_count": 20,
          "metadata": {},
          "output_type": "execute_result"
        }
      ],
      "source": [
        "# Alumno: obtener la cantidad de features (cantidad de columnas)\n",
        "# y almacenar en in_shape\n",
        "in_shape = X.shape[1]\n",
        "in_shape"
      ]
    },
    {
      "cell_type": "code",
      "execution_count": 21,
      "metadata": {
        "id": "bW7yowUVJI0v"
      },
      "outputs": [],
      "source": [
        "# Alumno: crear una variable out_shape indicando cuandas neuronas de salida desea\n",
        "out_shape = 1"
      ]
    },
    {
      "cell_type": "markdown",
      "metadata": {
        "id": "sbr-SnON4LuM"
      },
      "source": [
        "Siguiente paso es dividir el dataset en entrenamiento (train) y evaluación (test). Utilizaremos el criterio 80%20%"
      ]
    },
    {
      "cell_type": "code",
      "execution_count": 22,
      "metadata": {
        "id": "BVD4YkjS4MW2"
      },
      "outputs": [],
      "source": [
        "# Alumno, generar los dataset de train y test superando en 80%20%\n",
        "from sklearn.model_selection import train_test_split\n",
        "X_train, X_test, y_train, y_test = train_test_split(X, y, test_size=0.2, random_state=42)"
      ]
    },
    {
      "cell_type": "code",
      "execution_count": 23,
      "metadata": {
        "id": "ZRw2jgPl4Xuc"
      },
      "outputs": [],
      "source": [
        "from keras.layers import Dense\n",
        "# Alumno: crear un modelo secuencial de dos capas (hidden y output).\n",
        "# Coloque correctamente el valor de in_shape y out_shape en el modelo\n",
        "# pero seleccione por su cuenta la cantidad de neuronas en la capa oculta\n",
        "\n",
        "model = Sequential()\n",
        "    \n",
        "model.add(Dense(units=64, activation='sigmoid', input_shape=(in_shape,)))\n",
        "model.add(Dense(units=out_shape, activation='sigmoid'))"
      ]
    },
    {
      "cell_type": "code",
      "execution_count": 24,
      "metadata": {
        "id": "BzH_dPq7K8yU"
      },
      "outputs": [],
      "source": [
        "# Alumno: compilar el modelo con binary_crossentropy y métrica de \"accuracy\"\n",
        "model.compile(optimizer=\"Adam\",\n",
        "              loss='binary_crossentropy',\n",
        "              metrics=['accuracy'])"
      ]
    },
    {
      "cell_type": "code",
      "execution_count": 25,
      "metadata": {
        "colab": {
          "base_uri": "https://localhost:8080/"
        },
        "id": "P1q1Z7voLPYb",
        "outputId": "c4a258d3-fabc-41e7-ac2d-f363caaeec13"
      },
      "outputs": [
        {
          "name": "stdout",
          "output_type": "stream",
          "text": [
            "Epoch 1/80\n",
            "15/15 [==============================] - 1s 23ms/step - loss: 0.7653 - accuracy: 0.3969 - val_loss: 0.6816 - val_accuracy: 0.5565\n",
            "Epoch 2/80\n",
            "15/15 [==============================] - 0s 8ms/step - loss: 0.6670 - accuracy: 0.6382 - val_loss: 0.6514 - val_accuracy: 0.6696\n",
            "Epoch 3/80\n",
            "15/15 [==============================] - 0s 6ms/step - loss: 0.6398 - accuracy: 0.6382 - val_loss: 0.6508 - val_accuracy: 0.5913\n",
            "Epoch 4/80\n",
            "15/15 [==============================] - 0s 6ms/step - loss: 0.6292 - accuracy: 0.6162 - val_loss: 0.6471 - val_accuracy: 0.5739\n",
            "Epoch 5/80\n",
            "15/15 [==============================] - 0s 7ms/step - loss: 0.6218 - accuracy: 0.6075 - val_loss: 0.6415 - val_accuracy: 0.5739\n",
            "Epoch 6/80\n",
            "15/15 [==============================] - 0s 4ms/step - loss: 0.6140 - accuracy: 0.6250 - val_loss: 0.6341 - val_accuracy: 0.6087\n",
            "Epoch 7/80\n",
            "15/15 [==============================] - 0s 5ms/step - loss: 0.6068 - accuracy: 0.7018 - val_loss: 0.6260 - val_accuracy: 0.6870\n",
            "Epoch 8/80\n",
            "15/15 [==============================] - 0s 4ms/step - loss: 0.6009 - accuracy: 0.7193 - val_loss: 0.6231 - val_accuracy: 0.6870\n",
            "Epoch 9/80\n",
            "15/15 [==============================] - 0s 5ms/step - loss: 0.5945 - accuracy: 0.7018 - val_loss: 0.6211 - val_accuracy: 0.6609\n",
            "Epoch 10/80\n",
            "15/15 [==============================] - 0s 5ms/step - loss: 0.5889 - accuracy: 0.7061 - val_loss: 0.6143 - val_accuracy: 0.6957\n",
            "Epoch 11/80\n",
            "15/15 [==============================] - 0s 4ms/step - loss: 0.5833 - accuracy: 0.7237 - val_loss: 0.6105 - val_accuracy: 0.6957\n",
            "Epoch 12/80\n",
            "15/15 [==============================] - 0s 4ms/step - loss: 0.5780 - accuracy: 0.7281 - val_loss: 0.6068 - val_accuracy: 0.6957\n",
            "Epoch 13/80\n",
            "15/15 [==============================] - 0s 5ms/step - loss: 0.5726 - accuracy: 0.7303 - val_loss: 0.6020 - val_accuracy: 0.7130\n",
            "Epoch 14/80\n",
            "15/15 [==============================] - 0s 5ms/step - loss: 0.5676 - accuracy: 0.7412 - val_loss: 0.5981 - val_accuracy: 0.7130\n",
            "Epoch 15/80\n",
            "15/15 [==============================] - 0s 5ms/step - loss: 0.5623 - accuracy: 0.7456 - val_loss: 0.5962 - val_accuracy: 0.7130\n",
            "Epoch 16/80\n",
            "15/15 [==============================] - 0s 5ms/step - loss: 0.5575 - accuracy: 0.7478 - val_loss: 0.5903 - val_accuracy: 0.7130\n",
            "Epoch 17/80\n",
            "15/15 [==============================] - 0s 6ms/step - loss: 0.5527 - accuracy: 0.7544 - val_loss: 0.5876 - val_accuracy: 0.7130\n",
            "Epoch 18/80\n",
            "15/15 [==============================] - 0s 7ms/step - loss: 0.5481 - accuracy: 0.7654 - val_loss: 0.5816 - val_accuracy: 0.7130\n",
            "Epoch 19/80\n",
            "15/15 [==============================] - 0s 4ms/step - loss: 0.5432 - accuracy: 0.7763 - val_loss: 0.5779 - val_accuracy: 0.7130\n",
            "Epoch 20/80\n",
            "15/15 [==============================] - 0s 4ms/step - loss: 0.5389 - accuracy: 0.7807 - val_loss: 0.5745 - val_accuracy: 0.7130\n",
            "Epoch 21/80\n",
            "15/15 [==============================] - 0s 5ms/step - loss: 0.5349 - accuracy: 0.7895 - val_loss: 0.5675 - val_accuracy: 0.7130\n",
            "Epoch 22/80\n",
            "15/15 [==============================] - 0s 5ms/step - loss: 0.5300 - accuracy: 0.7917 - val_loss: 0.5686 - val_accuracy: 0.7217\n",
            "Epoch 23/80\n",
            "15/15 [==============================] - 0s 5ms/step - loss: 0.5259 - accuracy: 0.7829 - val_loss: 0.5675 - val_accuracy: 0.7217\n",
            "Epoch 24/80\n",
            "15/15 [==============================] - 0s 4ms/step - loss: 0.5220 - accuracy: 0.7873 - val_loss: 0.5621 - val_accuracy: 0.7217\n",
            "Epoch 25/80\n",
            "15/15 [==============================] - 0s 9ms/step - loss: 0.5181 - accuracy: 0.8114 - val_loss: 0.5544 - val_accuracy: 0.7391\n",
            "Epoch 26/80\n",
            "15/15 [==============================] - 0s 5ms/step - loss: 0.5142 - accuracy: 0.8004 - val_loss: 0.5547 - val_accuracy: 0.7217\n",
            "Epoch 27/80\n",
            "15/15 [==============================] - 0s 4ms/step - loss: 0.5111 - accuracy: 0.7895 - val_loss: 0.5538 - val_accuracy: 0.7217\n",
            "Epoch 28/80\n",
            "15/15 [==============================] - 0s 5ms/step - loss: 0.5071 - accuracy: 0.8004 - val_loss: 0.5479 - val_accuracy: 0.7391\n",
            "Epoch 29/80\n",
            "15/15 [==============================] - 0s 6ms/step - loss: 0.5029 - accuracy: 0.8070 - val_loss: 0.5440 - val_accuracy: 0.7478\n",
            "Epoch 30/80\n",
            "15/15 [==============================] - 0s 7ms/step - loss: 0.4993 - accuracy: 0.8136 - val_loss: 0.5392 - val_accuracy: 0.7565\n",
            "Epoch 31/80\n",
            "15/15 [==============================] - 0s 4ms/step - loss: 0.4962 - accuracy: 0.8136 - val_loss: 0.5395 - val_accuracy: 0.7478\n",
            "Epoch 32/80\n",
            "15/15 [==============================] - 0s 4ms/step - loss: 0.4926 - accuracy: 0.8136 - val_loss: 0.5355 - val_accuracy: 0.7565\n",
            "Epoch 33/80\n",
            "15/15 [==============================] - 0s 6ms/step - loss: 0.4893 - accuracy: 0.8136 - val_loss: 0.5317 - val_accuracy: 0.7565\n",
            "Epoch 34/80\n",
            "15/15 [==============================] - 0s 6ms/step - loss: 0.4863 - accuracy: 0.8289 - val_loss: 0.5274 - val_accuracy: 0.7391\n",
            "Epoch 35/80\n",
            "15/15 [==============================] - 0s 4ms/step - loss: 0.4835 - accuracy: 0.8268 - val_loss: 0.5249 - val_accuracy: 0.7304\n",
            "Epoch 36/80\n",
            "15/15 [==============================] - 0s 4ms/step - loss: 0.4811 - accuracy: 0.8158 - val_loss: 0.5220 - val_accuracy: 0.7565\n",
            "Epoch 37/80\n",
            "15/15 [==============================] - 0s 4ms/step - loss: 0.4785 - accuracy: 0.8246 - val_loss: 0.5258 - val_accuracy: 0.7478\n",
            "Epoch 38/80\n",
            "15/15 [==============================] - 0s 4ms/step - loss: 0.4772 - accuracy: 0.8224 - val_loss: 0.5193 - val_accuracy: 0.7478\n",
            "Epoch 39/80\n",
            "15/15 [==============================] - 0s 4ms/step - loss: 0.4737 - accuracy: 0.8180 - val_loss: 0.5228 - val_accuracy: 0.7478\n",
            "Epoch 40/80\n",
            "15/15 [==============================] - 0s 4ms/step - loss: 0.4709 - accuracy: 0.8180 - val_loss: 0.5121 - val_accuracy: 0.7565\n",
            "Epoch 41/80\n",
            "15/15 [==============================] - 0s 4ms/step - loss: 0.4669 - accuracy: 0.8158 - val_loss: 0.5115 - val_accuracy: 0.7652\n",
            "Epoch 42/80\n",
            "15/15 [==============================] - 0s 4ms/step - loss: 0.4642 - accuracy: 0.8180 - val_loss: 0.5079 - val_accuracy: 0.7652\n",
            "Epoch 43/80\n",
            "15/15 [==============================] - 0s 4ms/step - loss: 0.4625 - accuracy: 0.8180 - val_loss: 0.5053 - val_accuracy: 0.7652\n",
            "Epoch 44/80\n",
            "15/15 [==============================] - 0s 4ms/step - loss: 0.4606 - accuracy: 0.8246 - val_loss: 0.5067 - val_accuracy: 0.7826\n",
            "Epoch 45/80\n",
            "15/15 [==============================] - 0s 5ms/step - loss: 0.4578 - accuracy: 0.8224 - val_loss: 0.5022 - val_accuracy: 0.7826\n",
            "Epoch 46/80\n",
            "15/15 [==============================] - 0s 4ms/step - loss: 0.4568 - accuracy: 0.8202 - val_loss: 0.5028 - val_accuracy: 0.7739\n",
            "Epoch 47/80\n",
            "15/15 [==============================] - 0s 4ms/step - loss: 0.4538 - accuracy: 0.8224 - val_loss: 0.4994 - val_accuracy: 0.7739\n",
            "Epoch 48/80\n",
            "15/15 [==============================] - 0s 5ms/step - loss: 0.4534 - accuracy: 0.8114 - val_loss: 0.4942 - val_accuracy: 0.7739\n",
            "Epoch 49/80\n",
            "15/15 [==============================] - 0s 12ms/step - loss: 0.4515 - accuracy: 0.8158 - val_loss: 0.4968 - val_accuracy: 0.7826\n",
            "Epoch 50/80\n",
            "15/15 [==============================] - 0s 4ms/step - loss: 0.4499 - accuracy: 0.8158 - val_loss: 0.4940 - val_accuracy: 0.7826\n",
            "Epoch 51/80\n",
            "15/15 [==============================] - 0s 4ms/step - loss: 0.4481 - accuracy: 0.8114 - val_loss: 0.4933 - val_accuracy: 0.7826\n",
            "Epoch 52/80\n",
            "15/15 [==============================] - 0s 4ms/step - loss: 0.4466 - accuracy: 0.8224 - val_loss: 0.4957 - val_accuracy: 0.7826\n",
            "Epoch 53/80\n",
            "15/15 [==============================] - 0s 5ms/step - loss: 0.4455 - accuracy: 0.8114 - val_loss: 0.4900 - val_accuracy: 0.7826\n",
            "Epoch 54/80\n",
            "15/15 [==============================] - 0s 5ms/step - loss: 0.4449 - accuracy: 0.8114 - val_loss: 0.4901 - val_accuracy: 0.7826\n",
            "Epoch 55/80\n",
            "15/15 [==============================] - 0s 5ms/step - loss: 0.4430 - accuracy: 0.8158 - val_loss: 0.4950 - val_accuracy: 0.7826\n",
            "Epoch 56/80\n",
            "15/15 [==============================] - 0s 5ms/step - loss: 0.4417 - accuracy: 0.8246 - val_loss: 0.4939 - val_accuracy: 0.7913\n",
            "Epoch 57/80\n",
            "15/15 [==============================] - 0s 5ms/step - loss: 0.4409 - accuracy: 0.8224 - val_loss: 0.4915 - val_accuracy: 0.7913\n",
            "Epoch 58/80\n",
            "15/15 [==============================] - 0s 5ms/step - loss: 0.4392 - accuracy: 0.8114 - val_loss: 0.4852 - val_accuracy: 0.7913\n",
            "Epoch 59/80\n",
            "15/15 [==============================] - 0s 5ms/step - loss: 0.4388 - accuracy: 0.8092 - val_loss: 0.4840 - val_accuracy: 0.7913\n",
            "Epoch 60/80\n",
            "15/15 [==============================] - 0s 5ms/step - loss: 0.4386 - accuracy: 0.8070 - val_loss: 0.4806 - val_accuracy: 0.7826\n",
            "Epoch 61/80\n",
            "15/15 [==============================] - 0s 5ms/step - loss: 0.4364 - accuracy: 0.8092 - val_loss: 0.4842 - val_accuracy: 0.7913\n",
            "Epoch 62/80\n",
            "15/15 [==============================] - 0s 4ms/step - loss: 0.4357 - accuracy: 0.8136 - val_loss: 0.4875 - val_accuracy: 0.7826\n",
            "Epoch 63/80\n",
            "15/15 [==============================] - 0s 4ms/step - loss: 0.4352 - accuracy: 0.8158 - val_loss: 0.4870 - val_accuracy: 0.7913\n",
            "Epoch 64/80\n",
            "15/15 [==============================] - 0s 4ms/step - loss: 0.4346 - accuracy: 0.8048 - val_loss: 0.4809 - val_accuracy: 0.7913\n",
            "Epoch 65/80\n",
            "15/15 [==============================] - 0s 4ms/step - loss: 0.4331 - accuracy: 0.8048 - val_loss: 0.4828 - val_accuracy: 0.7913\n",
            "Epoch 66/80\n",
            "15/15 [==============================] - 0s 4ms/step - loss: 0.4336 - accuracy: 0.8114 - val_loss: 0.4846 - val_accuracy: 0.7913\n",
            "Epoch 67/80\n",
            "15/15 [==============================] - 0s 4ms/step - loss: 0.4315 - accuracy: 0.8004 - val_loss: 0.4771 - val_accuracy: 0.7913\n",
            "Epoch 68/80\n",
            "15/15 [==============================] - 0s 5ms/step - loss: 0.4324 - accuracy: 0.8026 - val_loss: 0.4808 - val_accuracy: 0.7913\n",
            "Epoch 69/80\n",
            "15/15 [==============================] - 0s 5ms/step - loss: 0.4305 - accuracy: 0.8026 - val_loss: 0.4796 - val_accuracy: 0.7913\n",
            "Epoch 70/80\n",
            "15/15 [==============================] - 0s 9ms/step - loss: 0.4302 - accuracy: 0.8026 - val_loss: 0.4811 - val_accuracy: 0.7913\n",
            "Epoch 71/80\n",
            "15/15 [==============================] - 0s 4ms/step - loss: 0.4294 - accuracy: 0.8092 - val_loss: 0.4791 - val_accuracy: 0.7913\n",
            "Epoch 72/80\n",
            "15/15 [==============================] - 0s 4ms/step - loss: 0.4291 - accuracy: 0.8048 - val_loss: 0.4782 - val_accuracy: 0.7913\n",
            "Epoch 73/80\n",
            "15/15 [==============================] - 0s 4ms/step - loss: 0.4303 - accuracy: 0.8092 - val_loss: 0.4745 - val_accuracy: 0.7913\n",
            "Epoch 74/80\n",
            "15/15 [==============================] - 0s 4ms/step - loss: 0.4277 - accuracy: 0.8048 - val_loss: 0.4768 - val_accuracy: 0.7913\n",
            "Epoch 75/80\n",
            "15/15 [==============================] - 0s 4ms/step - loss: 0.4276 - accuracy: 0.8070 - val_loss: 0.4784 - val_accuracy: 0.7913\n",
            "Epoch 76/80\n",
            "15/15 [==============================] - 0s 4ms/step - loss: 0.4272 - accuracy: 0.8048 - val_loss: 0.4751 - val_accuracy: 0.7913\n",
            "Epoch 77/80\n",
            "15/15 [==============================] - 0s 4ms/step - loss: 0.4267 - accuracy: 0.8026 - val_loss: 0.4737 - val_accuracy: 0.7913\n",
            "Epoch 78/80\n",
            "15/15 [==============================] - 0s 5ms/step - loss: 0.4265 - accuracy: 0.8048 - val_loss: 0.4784 - val_accuracy: 0.8000\n",
            "Epoch 79/80\n",
            "15/15 [==============================] - 0s 5ms/step - loss: 0.4268 - accuracy: 0.8136 - val_loss: 0.4769 - val_accuracy: 0.8000\n",
            "Epoch 80/80\n",
            "15/15 [==============================] - 0s 4ms/step - loss: 0.4266 - accuracy: 0.8092 - val_loss: 0.4762 - val_accuracy: 0.7913\n"
          ]
        }
      ],
      "source": [
        "# Alumno: entrenar el modelo, seleccionar un 20% para el dataset de validacion\n",
        "# Queda a su gusto seleccionar la cantidad de épocas\n",
        "# Almacenar la salida del fit en una variable \"history\"\n",
        "history = model.fit(X_train, y_train, validation_split=0.2 , epochs=80)"
      ]
    },
    {
      "cell_type": "code",
      "execution_count": 28,
      "metadata": {
        "colab": {
          "base_uri": "https://localhost:8080/",
          "height": 265
        },
        "id": "12SHo7bDLpHk",
        "outputId": "01825894-4766-45b5-cc63-a6bf36884430"
      },
      "outputs": [
        {
          "data": {
            "image/png": "[encoded data removed]",
            "text/plain": [
              "<Figure size 432x288 with 1 Axes>"
            ]
          },
          "metadata": {
            "needs_background": "light"
          },
          "output_type": "display_data"
        }
      ],
      "source": [
        "# Alumno: Graficar la evolución del accuracy durante el entrenamiento\n",
        "# tanto para el dataset de train y el de valid en un gráfico\n",
        "# plot line\n",
        "epoch_count = range(1, len(history.history['accuracy']) + 1)\n",
        "sns.lineplot(x=epoch_count,  y=history.history['accuracy'], label='train')\n",
        "sns.lineplot(x=epoch_count,  y=history.history['val_accuracy'], label='valid')\n",
        "plt.show()"
      ]
    },
    {
      "cell_type": "code",
      "execution_count": 26,
      "metadata": {
        "id": "rMuNNR9HL97_"
      },
      "outputs": [
        {
          "name": "stdout",
          "output_type": "stream",
          "text": [
            "5/5 [==============================] - 0s 2ms/step\n"
          ]
        }
      ],
      "source": [
        "# Alumno: obtener la probabilidad de sobreviir (y_hat_prob)\n",
        "# realizando una prediccion (predict) con el dataset de test\n",
        "y_hat_prob = model.predict(X_test)"
      ]
    },
    {
      "cell_type": "code",
      "execution_count": 27,
      "metadata": {
        "id": "MiLJQi_gMIsS"
      },
      "outputs": [],
      "source": [
        "# Alumno: transformar las probabilidads en 0 y 1, si la probabilidad es\n",
        "# mayor o igual a 0.5 definir que la persona sobrevivió (1)\n",
        "# Estos valores guardarlos en y_hat\n",
        "y_hat = [1 if x >= 0.5 else 0 for x in y_hat_prob]"
      ]
    },
    {
      "cell_type": "markdown",
      "metadata": {
        "id": "w3IfjUuI4XnD"
      },
      "source": [
        "# Validar modelo\n",
        "<img src=\"https://raw.githubusercontent.com/InoveAlumnos/dataset_analytics_python/master/images/Pipeline5.png\" width=\"1000\" align=\"middle\">"
      ]
    },
    {
      "cell_type": "code",
      "execution_count": 28,
      "metadata": {
        "colab": {
          "base_uri": "https://localhost:8080/"
        },
        "id": "CMKONtv55zL8",
        "outputId": "fd6b4193-1f16-4b26-8c07-a46811ca36d0"
      },
      "outputs": [
        {
          "data": {
            "text/plain": [
              "0.7412587412587412"
            ]
          },
          "execution_count": 28,
          "metadata": {},
          "output_type": "execute_result"
        }
      ],
      "source": [
        "# Alumno, calcular la exactitud (accuracy) de su modelo\n",
        "from sklearn.metrics import accuracy_score\n",
        "accuracy_score(y_test, y_hat, normalize=True)"
      ]
    },
    {
      "cell_type": "code",
      "execution_count": 32,
      "metadata": {
        "colab": {
          "base_uri": "https://localhost:8080/",
          "height": 279
        },
        "id": "TeLeYLYz6ZhO",
        "outputId": "45490747-ee86-4bb9-b461-7938e5d779dd"
      },
      "outputs": [
        {
          "data": {
            "image/png": "[encoded data removed]",
            "text/plain": [
              "<Figure size 432x288 with 2 Axes>"
            ]
          },
          "metadata": {
            "needs_background": "light"
          },
          "output_type": "display_data"
        }
      ],
      "source": [
        "# Alumno, dibujar la matriz de confusion\n",
        "# definir display_labels=['NO SOBREVIVE', 'SOBREVIVE']\n",
        "from sklearn.metrics import confusion_matrix, ConfusionMatrixDisplay\n",
        "cm = confusion_matrix(y_test, y_hat)\n",
        "cmd = ConfusionMatrixDisplay(cm, display_labels=['NO SOBREVIVE', 'SOBREVIVE'])\n",
        "cmd.plot(cmap=plt.cm.Blues)\n",
        "plt.show()"
      ]
    },
    {
      "cell_type": "markdown",
      "metadata": {
        "id": "9dZxGbjG96jR"
      },
      "source": [
        "# Utilizar modelo\n",
        "<img src=\"https://raw.githubusercontent.com/InoveAlumnos/dataset_analytics_python/master/images/Pipeline6.png\" width=\"1000\" align=\"middle\">"
      ]
    },
    {
      "cell_type": "code",
      "execution_count": 30,
      "metadata": {
        "colab": {
          "base_uri": "https://localhost:8080/"
        },
        "id": "7YH0C6473i5f",
        "outputId": "9125e195-90a6-4971-b6bc-d1e192672bcd"
      },
      "outputs": [
        {
          "name": "stdout",
          "output_type": "stream",
          "text": [
            "1/1 [==============================] - 0s 37ms/step\n",
            "Sobrevivi!\n",
            "Probabilidad de haber sobrevivido: 0.5894635319709778\n"
          ]
        },
        {
          "name": "stderr",
          "output_type": "stream",
          "text": [
            "c:\\Users\\jorge\\AppData\\Local\\Programs\\Python\\Python311\\Lib\\site-packages\\sklearn\\base.py:439: UserWarning: X does not have valid feature names, but StandardScaler was fitted with feature names\n",
            "  warnings.warn(\n"
          ]
        }
      ],
      "source": [
        "# Alumno, pona a prueba el modelo, ingrese datos ficticios y divertase un rato :)\n",
        "# Recordar que los datos de genero (Sex) ahora son numéricos para el modelo (0 o 1)\n",
        "# Debe utilizar el encoder que se generó antes para convertir los nuevos valores\n",
        "# Recordar que los datos de edad (Age) se normalizaron, debe utilizar ese\n",
        "# scaler generado para transformarlo\n",
        "Pclass = 1\n",
        "Sex = 'male'\n",
        "Age = 6\n",
        "SibSp = 2\n",
        "Parch = 0\n",
        "\n",
        "# Casteamos el array que devuelve le.transform a int\n",
        "sex_encoded = int(le.transform([Sex]))\n",
        "# Normalizar la edad con el normalizador\n",
        "age_norm = float(scaler.transform([[Age]]))\n",
        "# Crear el array de entrada\n",
        "X_prueba = np.array([Pclass, sex_encoded, age_norm, SibSp, Parch])\n",
        "# El sistema espera 1 fila y N columnas, hay que hacer reshape\n",
        "X_prueba = X_prueba.reshape(1, -1)\n",
        "y_prueba = float(model.predict(X_prueba))\n",
        "\n",
        "if y_prueba >= 0.5:\n",
        "    print('Sobrevivi!')\n",
        "else:\n",
        "    print('Game Over')\n",
        "\n",
        "print('Probabilidad de haber sobrevivido:', y_prueba)"
      ]
    }
  ],
  "metadata": {
    "colab": {
      "collapsed_sections": [],
      "name": "1_titanic_resuelto.ipynb",
      "provenance": [],
      "toc_visible": true
    },
    "kernelspec": {
      "display_name": "Python 3",
      "name": "python3"
    },
    "language_info": {
      "codemirror_mode": {
        "name": "ipython",
        "version": 3
      },
      "file_extension": ".py",
      "mimetype": "text/x-python",
      "name": "python",
      "nbconvert_exporter": "python",
      "pygments_lexer": "ipython3",
      "version": "3.11.3"
    }
  },
  "nbformat": 4,
  "nbformat_minor": 0
}
