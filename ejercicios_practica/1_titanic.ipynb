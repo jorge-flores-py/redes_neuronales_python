{
  "cells": [
    {
      "cell_type": "markdown",
      "metadata": {
        "id": "67RBrvkUviuj"
      },
      "source": [
        "<a href=\"https://www.inove.com.ar\"><img src=\"https://raw.githubusercontent.com/InoveAlumnos/dataset_analytics_python/master/images/PA%20Banner.png\" width=\"1000\" align=\"center\"></a>\n",
        "\n",
        "\n",
        "# Ejercicio de clasificación con titanic dataset\n",
        "\n",
        "Ejemplo de clasificación utilizando el dataset de titanic<br>\n",
        "\n",
        "v1.1"
      ]
    },
    {
      "cell_type": "code",
      "execution_count": 1,
      "metadata": {
        "id": "y2sSeyEovSw-"
      },
      "outputs": [],
      "source": [
        "import os\n",
        "import platform\n",
        "\n",
        "import numpy as np\n",
        "import matplotlib.pyplot as plt\n",
        "import seaborn as sns\n",
        "import pandas as pd\n",
        "\n",
        "import keras\n",
        "from keras.models import Sequential\n",
        "from keras.utils import to_categorical  \n",
        "#from keras.utils.np_utils import to_categorical # Si esto no funciona, probar con el import anterior"
      ]
    },
    {
      "cell_type": "markdown",
      "metadata": {
        "id": "7Szo7P_3v00C"
      },
      "source": [
        "# Recolectar datos\n",
        "<img src=\"https://raw.githubusercontent.com/InoveAlumnos/dataset_analytics_python/master/images/Pipeline1.png\" width=\"1000\" align=\"middle\">"
      ]
    },
    {
      "cell_type": "code",
      "execution_count": 2,
      "metadata": {
        "id": "HnVpNGuAvyFi"
      },
      "outputs": [],
      "source": [
        "if os.access('titanic.csv', os.F_OK) is False:\n",
        "    if platform.system() == 'Windows':\n",
        "        !curl https://raw.githubusercontent.com/InoveAlumnos/dataset_analytics_python/master/titanic.csv > titanic.csv\n",
        "    else:\n",
        "        !wget titanic.csv https://raw.githubusercontent.com/InoveAlumnos/dataset_analytics_python/master/titanic.csv"
      ]
    },
    {
      "cell_type": "markdown",
      "metadata": {
        "id": "BbNSgxdfw0ix"
      },
      "source": [
        "### `titanic.csv`:\n",
        "El dataset **`titanic.csv`** contiene datos sobre los pasajeros que estuvieron en el titanic y si finalmente sobrevivieron o nó al viaje.<br>\n",
        "- **Passengerid** --> id del pasajero, ejemplo 5\n",
        "- **Survived** --> sobrevivió? 1(Si), 0(No)\n",
        "- **Pclass** --> clase (1, 2, 3)\n",
        "- **Name** --> nombre\n",
        "- **Sex** --> genero, ejemplo male(masculino), female(femenino)\n",
        "- **Age** --> edad\n",
        "- **Siblings** --> Hermanos y esposas/esposos abordo\n",
        "- **Parch** --> Hijos abordo\n",
        "- **Ticket** --> Nº de ticket\n",
        "- **Fare** --> tarifa del ticket\n",
        "- **Cabine** --> Nº de cabina\n",
        "- **Embarked** --> Puerto de embarque (C = Cherbourg; Q = Queenstown; S = Southampton)\n"
      ]
    },
    {
      "cell_type": "markdown",
      "metadata": {
        "id": "NHHsGe1Qypde"
      },
      "source": [
        "# Procesar datos\n",
        "<img src=\"https://raw.githubusercontent.com/InoveAlumnos/dataset_analytics_python/master/images/Pipeline2.png\" width=\"1000\" align=\"middle\">"
      ]
    },
    {
      "cell_type": "code",
      "execution_count": 4,
      "metadata": {
        "id": "uvzaKBMbyoiy"
      },
      "outputs": [
        {
          "data": {
            "text/html": [
              "<div>\n",
              "<style scoped>\n",
              "    .dataframe tbody tr th:only-of-type {\n",
              "        vertical-align: middle;\n",
              "    }\n",
              "\n",
              "    .dataframe tbody tr th {\n",
              "        vertical-align: top;\n",
              "    }\n",
              "\n",
              "    .dataframe thead th {\n",
              "        text-align: right;\n",
              "    }\n",
              "</style>\n",
              "<table border=\"1\" class=\"dataframe\">\n",
              "  <thead>\n",
              "    <tr style=\"text-align: right;\">\n",
              "      <th></th>\n",
              "      <th>PassengerId</th>\n",
              "      <th>Survived</th>\n",
              "      <th>Pclass</th>\n",
              "      <th>Age</th>\n",
              "      <th>SibSp</th>\n",
              "      <th>Parch</th>\n",
              "      <th>Fare</th>\n",
              "    </tr>\n",
              "  </thead>\n",
              "  <tbody>\n",
              "    <tr>\n",
              "      <th>count</th>\n",
              "      <td>891.000000</td>\n",
              "      <td>891.000000</td>\n",
              "      <td>891.000000</td>\n",
              "      <td>714.000000</td>\n",
              "      <td>891.000000</td>\n",
              "      <td>891.000000</td>\n",
              "      <td>891.000000</td>\n",
              "    </tr>\n",
              "    <tr>\n",
              "      <th>mean</th>\n",
              "      <td>446.000000</td>\n",
              "      <td>0.383838</td>\n",
              "      <td>2.308642</td>\n",
              "      <td>29.699118</td>\n",
              "      <td>0.523008</td>\n",
              "      <td>0.381594</td>\n",
              "      <td>32.204208</td>\n",
              "    </tr>\n",
              "    <tr>\n",
              "      <th>std</th>\n",
              "      <td>257.353842</td>\n",
              "      <td>0.486592</td>\n",
              "      <td>0.836071</td>\n",
              "      <td>14.526497</td>\n",
              "      <td>1.102743</td>\n",
              "      <td>0.806057</td>\n",
              "      <td>49.693429</td>\n",
              "    </tr>\n",
              "    <tr>\n",
              "      <th>min</th>\n",
              "      <td>1.000000</td>\n",
              "      <td>0.000000</td>\n",
              "      <td>1.000000</td>\n",
              "      <td>0.420000</td>\n",
              "      <td>0.000000</td>\n",
              "      <td>0.000000</td>\n",
              "      <td>0.000000</td>\n",
              "    </tr>\n",
              "    <tr>\n",
              "      <th>25%</th>\n",
              "      <td>223.500000</td>\n",
              "      <td>0.000000</td>\n",
              "      <td>2.000000</td>\n",
              "      <td>20.125000</td>\n",
              "      <td>0.000000</td>\n",
              "      <td>0.000000</td>\n",
              "      <td>7.910400</td>\n",
              "    </tr>\n",
              "    <tr>\n",
              "      <th>50%</th>\n",
              "      <td>446.000000</td>\n",
              "      <td>0.000000</td>\n",
              "      <td>3.000000</td>\n",
              "      <td>28.000000</td>\n",
              "      <td>0.000000</td>\n",
              "      <td>0.000000</td>\n",
              "      <td>14.454200</td>\n",
              "    </tr>\n",
              "    <tr>\n",
              "      <th>75%</th>\n",
              "      <td>668.500000</td>\n",
              "      <td>1.000000</td>\n",
              "      <td>3.000000</td>\n",
              "      <td>38.000000</td>\n",
              "      <td>1.000000</td>\n",
              "      <td>0.000000</td>\n",
              "      <td>31.000000</td>\n",
              "    </tr>\n",
              "    <tr>\n",
              "      <th>max</th>\n",
              "      <td>891.000000</td>\n",
              "      <td>1.000000</td>\n",
              "      <td>3.000000</td>\n",
              "      <td>80.000000</td>\n",
              "      <td>8.000000</td>\n",
              "      <td>6.000000</td>\n",
              "      <td>512.329200</td>\n",
              "    </tr>\n",
              "    <tr>\n",
              "      <th>Nan</th>\n",
              "      <td>0.000000</td>\n",
              "      <td>0.000000</td>\n",
              "      <td>0.000000</td>\n",
              "      <td>177.000000</td>\n",
              "      <td>0.000000</td>\n",
              "      <td>0.000000</td>\n",
              "      <td>0.000000</td>\n",
              "    </tr>\n",
              "    <tr>\n",
              "      <th>%Nan.</th>\n",
              "      <td>0.000000</td>\n",
              "      <td>0.000000</td>\n",
              "      <td>0.000000</td>\n",
              "      <td>19.865320</td>\n",
              "      <td>0.000000</td>\n",
              "      <td>0.000000</td>\n",
              "      <td>0.000000</td>\n",
              "    </tr>\n",
              "  </tbody>\n",
              "</table>\n",
              "</div>"
            ],
            "text/plain": [
              "       PassengerId    Survived      Pclass         Age       SibSp   \n",
              "count   891.000000  891.000000  891.000000  714.000000  891.000000  \\\n",
              "mean    446.000000    0.383838    2.308642   29.699118    0.523008   \n",
              "std     257.353842    0.486592    0.836071   14.526497    1.102743   \n",
              "min       1.000000    0.000000    1.000000    0.420000    0.000000   \n",
              "25%     223.500000    0.000000    2.000000   20.125000    0.000000   \n",
              "50%     446.000000    0.000000    3.000000   28.000000    0.000000   \n",
              "75%     668.500000    1.000000    3.000000   38.000000    1.000000   \n",
              "max     891.000000    1.000000    3.000000   80.000000    8.000000   \n",
              "Nan       0.000000    0.000000    0.000000  177.000000    0.000000   \n",
              "%Nan.     0.000000    0.000000    0.000000   19.865320    0.000000   \n",
              "\n",
              "            Parch        Fare  \n",
              "count  891.000000  891.000000  \n",
              "mean     0.381594   32.204208  \n",
              "std      0.806057   49.693429  \n",
              "min      0.000000    0.000000  \n",
              "25%      0.000000    7.910400  \n",
              "50%      0.000000   14.454200  \n",
              "75%      0.000000   31.000000  \n",
              "max      6.000000  512.329200  \n",
              "Nan      0.000000    0.000000  \n",
              "%Nan.    0.000000    0.000000  "
            ]
          },
          "execution_count": 4,
          "metadata": {},
          "output_type": "execute_result"
        }
      ],
      "source": [
        "# Alumno, realice una inspeccion del dataset en búsqueda de elementos faltantes\n",
        "df = pd.read_csv(\"titanic.csv\")\n",
        "des = df.describe()\n",
        "des.loc['Nan'] = df.isna().sum()\n",
        "des.loc['%Nan.'] = (df.isna().mean())*100\n",
        "des"
      ]
    },
    {
      "cell_type": "code",
      "execution_count": 16,
      "metadata": {
        "id": "Cw9HbE88y3wu"
      },
      "outputs": [
        {
          "data": {
            "text/html": [
              "<div>\n",
              "<style scoped>\n",
              "    .dataframe tbody tr th:only-of-type {\n",
              "        vertical-align: middle;\n",
              "    }\n",
              "\n",
              "    .dataframe tbody tr th {\n",
              "        vertical-align: top;\n",
              "    }\n",
              "\n",
              "    .dataframe thead th {\n",
              "        text-align: right;\n",
              "    }\n",
              "</style>\n",
              "<table border=\"1\" class=\"dataframe\">\n",
              "  <thead>\n",
              "    <tr style=\"text-align: right;\">\n",
              "      <th></th>\n",
              "      <th>PassengerId</th>\n",
              "      <th>Survived</th>\n",
              "      <th>Pclass</th>\n",
              "      <th>Name</th>\n",
              "      <th>Sex</th>\n",
              "      <th>Age</th>\n",
              "      <th>SibSp</th>\n",
              "      <th>Parch</th>\n",
              "      <th>Ticket</th>\n",
              "      <th>Fare</th>\n",
              "      <th>Cabin</th>\n",
              "      <th>Embarked</th>\n",
              "    </tr>\n",
              "  </thead>\n",
              "  <tbody>\n",
              "    <tr>\n",
              "      <th>0</th>\n",
              "      <td>1</td>\n",
              "      <td>0</td>\n",
              "      <td>3</td>\n",
              "      <td>Braund, Mr. Owen Harris</td>\n",
              "      <td>male</td>\n",
              "      <td>22.0</td>\n",
              "      <td>1</td>\n",
              "      <td>0</td>\n",
              "      <td>A/5 21171</td>\n",
              "      <td>7.2500</td>\n",
              "      <td>NaN</td>\n",
              "      <td>S</td>\n",
              "    </tr>\n",
              "    <tr>\n",
              "      <th>1</th>\n",
              "      <td>2</td>\n",
              "      <td>1</td>\n",
              "      <td>1</td>\n",
              "      <td>Cumings, Mrs. John Bradley (Florence Briggs Th...</td>\n",
              "      <td>female</td>\n",
              "      <td>38.0</td>\n",
              "      <td>1</td>\n",
              "      <td>0</td>\n",
              "      <td>PC 17599</td>\n",
              "      <td>71.2833</td>\n",
              "      <td>C85</td>\n",
              "      <td>C</td>\n",
              "    </tr>\n",
              "    <tr>\n",
              "      <th>2</th>\n",
              "      <td>3</td>\n",
              "      <td>1</td>\n",
              "      <td>3</td>\n",
              "      <td>Heikkinen, Miss. Laina</td>\n",
              "      <td>female</td>\n",
              "      <td>26.0</td>\n",
              "      <td>0</td>\n",
              "      <td>0</td>\n",
              "      <td>STON/O2. 3101282</td>\n",
              "      <td>7.9250</td>\n",
              "      <td>NaN</td>\n",
              "      <td>S</td>\n",
              "    </tr>\n",
              "    <tr>\n",
              "      <th>3</th>\n",
              "      <td>4</td>\n",
              "      <td>1</td>\n",
              "      <td>1</td>\n",
              "      <td>Futrelle, Mrs. Jacques Heath (Lily May Peel)</td>\n",
              "      <td>female</td>\n",
              "      <td>35.0</td>\n",
              "      <td>1</td>\n",
              "      <td>0</td>\n",
              "      <td>113803</td>\n",
              "      <td>53.1000</td>\n",
              "      <td>C123</td>\n",
              "      <td>S</td>\n",
              "    </tr>\n",
              "    <tr>\n",
              "      <th>4</th>\n",
              "      <td>5</td>\n",
              "      <td>0</td>\n",
              "      <td>3</td>\n",
              "      <td>Allen, Mr. William Henry</td>\n",
              "      <td>male</td>\n",
              "      <td>35.0</td>\n",
              "      <td>0</td>\n",
              "      <td>0</td>\n",
              "      <td>373450</td>\n",
              "      <td>8.0500</td>\n",
              "      <td>NaN</td>\n",
              "      <td>S</td>\n",
              "    </tr>\n",
              "  </tbody>\n",
              "</table>\n",
              "</div>"
            ],
            "text/plain": [
              "   PassengerId  Survived  Pclass   \n",
              "0            1         0       3  \\\n",
              "1            2         1       1   \n",
              "2            3         1       3   \n",
              "3            4         1       1   \n",
              "4            5         0       3   \n",
              "\n",
              "                                                Name     Sex   Age  SibSp   \n",
              "0                            Braund, Mr. Owen Harris    male  22.0      1  \\\n",
              "1  Cumings, Mrs. John Bradley (Florence Briggs Th...  female  38.0      1   \n",
              "2                             Heikkinen, Miss. Laina  female  26.0      0   \n",
              "3       Futrelle, Mrs. Jacques Heath (Lily May Peel)  female  35.0      1   \n",
              "4                           Allen, Mr. William Henry    male  35.0      0   \n",
              "\n",
              "   Parch            Ticket     Fare Cabin Embarked  \n",
              "0      0         A/5 21171   7.2500   NaN        S  \n",
              "1      0          PC 17599  71.2833   C85        C  \n",
              "2      0  STON/O2. 3101282   7.9250   NaN        S  \n",
              "3      0            113803  53.1000  C123        S  \n",
              "4      0            373450   8.0500   NaN        S  "
            ]
          },
          "execution_count": 16,
          "metadata": {},
          "output_type": "execute_result"
        }
      ],
      "source": [
        "# Alumno, inspeccione el dataset, visualice las columnas que posee y sus primeras filas\n",
        "df.head(5)"
      ]
    },
    {
      "cell_type": "code",
      "execution_count": 17,
      "metadata": {
        "id": "9g4_cql61J5m"
      },
      "outputs": [],
      "source": [
        "# Alumno, del dataset original cree uno nuevo pero\n",
        "# unicamente con las siguientes columnas:\n",
        "# Survived, Pclass, Sex, Age, SibSp, Parch\n",
        "\n",
        "df2 = df[['Pclass', 'Sex', 'Age', 'SibSp', 'Parch', 'Survived']]"
      ]
    },
    {
      "cell_type": "code",
      "execution_count": 18,
      "metadata": {
        "id": "aPr3AkXM1DkO"
      },
      "outputs": [],
      "source": [
        "# Alumno, en caso de encontrarse elementos faltantes,\n",
        "# elimine aquellas filas que tengan columnas vacias\n",
        "# Escriba el procedimiento tenga o no elementos faltantes\n",
        "df2 = df2.dropna()"
      ]
    },
    {
      "cell_type": "code",
      "execution_count": 19,
      "metadata": {
        "id": "LirgXKpiy8dr"
      },
      "outputs": [
        {
          "data": {
            "text/plain": [
              "714"
            ]
          },
          "execution_count": 19,
          "metadata": {},
          "output_type": "execute_result"
        }
      ],
      "source": [
        "# Alumno: Fin de la limpieza, especifique cuantas filas se poseen para analizar\n",
        "df2.shape[0]"
      ]
    },
    {
      "cell_type": "markdown",
      "metadata": {
        "id": "0BnzYdlRzBxz"
      },
      "source": [
        "# Explorar datos\n",
        "<img src=\"https://raw.githubusercontent.com/InoveAlumnos/dataset_analytics_python/master/images/Pipeline3.png\" width=\"1000\" align=\"middle\">"
      ]
    },
    {
      "cell_type": "code",
      "execution_count": 20,
      "metadata": {
        "id": "ujLgPJYo18IR"
      },
      "outputs": [
        {
          "data": {
            "text/html": [
              "<div>\n",
              "<style scoped>\n",
              "    .dataframe tbody tr th:only-of-type {\n",
              "        vertical-align: middle;\n",
              "    }\n",
              "\n",
              "    .dataframe tbody tr th {\n",
              "        vertical-align: top;\n",
              "    }\n",
              "\n",
              "    .dataframe thead th {\n",
              "        text-align: right;\n",
              "    }\n",
              "</style>\n",
              "<table border=\"1\" class=\"dataframe\">\n",
              "  <thead>\n",
              "    <tr style=\"text-align: right;\">\n",
              "      <th></th>\n",
              "      <th>Pclass</th>\n",
              "      <th>Sex</th>\n",
              "      <th>Age</th>\n",
              "      <th>SibSp</th>\n",
              "      <th>Parch</th>\n",
              "      <th>Survived</th>\n",
              "    </tr>\n",
              "  </thead>\n",
              "  <tbody>\n",
              "    <tr>\n",
              "      <th>0</th>\n",
              "      <td>3</td>\n",
              "      <td>male</td>\n",
              "      <td>22.0</td>\n",
              "      <td>1</td>\n",
              "      <td>0</td>\n",
              "      <td>0</td>\n",
              "    </tr>\n",
              "    <tr>\n",
              "      <th>1</th>\n",
              "      <td>1</td>\n",
              "      <td>female</td>\n",
              "      <td>38.0</td>\n",
              "      <td>1</td>\n",
              "      <td>0</td>\n",
              "      <td>1</td>\n",
              "    </tr>\n",
              "    <tr>\n",
              "      <th>2</th>\n",
              "      <td>3</td>\n",
              "      <td>female</td>\n",
              "      <td>26.0</td>\n",
              "      <td>0</td>\n",
              "      <td>0</td>\n",
              "      <td>1</td>\n",
              "    </tr>\n",
              "    <tr>\n",
              "      <th>3</th>\n",
              "      <td>1</td>\n",
              "      <td>female</td>\n",
              "      <td>35.0</td>\n",
              "      <td>1</td>\n",
              "      <td>0</td>\n",
              "      <td>1</td>\n",
              "    </tr>\n",
              "    <tr>\n",
              "      <th>4</th>\n",
              "      <td>3</td>\n",
              "      <td>male</td>\n",
              "      <td>35.0</td>\n",
              "      <td>0</td>\n",
              "      <td>0</td>\n",
              "      <td>0</td>\n",
              "    </tr>\n",
              "  </tbody>\n",
              "</table>\n",
              "</div>"
            ],
            "text/plain": [
              "   Pclass     Sex   Age  SibSp  Parch  Survived\n",
              "0       3    male  22.0      1      0         0\n",
              "1       1  female  38.0      1      0         1\n",
              "2       3  female  26.0      0      0         1\n",
              "3       1  female  35.0      1      0         1\n",
              "4       3    male  35.0      0      0         0"
            ]
          },
          "execution_count": 20,
          "metadata": {},
          "output_type": "execute_result"
        }
      ],
      "source": [
        "# Alumno, inspeccione el dataset, visualice las columnas que posee y sus primeras filas\n",
        "df2.head(5)"
      ]
    },
    {
      "cell_type": "code",
      "execution_count": 21,
      "metadata": {
        "id": "yH6oDykAzBMG"
      },
      "outputs": [
        {
          "data": {
            "text/plain": [
              "Survived\n",
              "0    424\n",
              "1    290\n",
              "Name: count, dtype: int64"
            ]
          },
          "execution_count": 21,
          "metadata": {},
          "output_type": "execute_result"
        }
      ],
      "source": [
        "# Alumno: Explorar que tan balanceado está el dataset,\n",
        "# determinar cuantas personas sobrivivieron o nó\n",
        "df2['Survived'].value_counts()"
      ]
    },
    {
      "cell_type": "code",
      "execution_count": 23,
      "metadata": {
        "id": "uPNDkywTzazk"
      },
      "outputs": [
        {
          "data": {
            "image/png": "[encoded data removed]",
            "text/plain": [
              "<Figure size 640x480 with 1 Axes>"
            ]
          },
          "metadata": {},
          "output_type": "display_data"
        }
      ],
      "source": [
        "# Alumno: Determinar cuantas personas sobrevivieron\n",
        "# diferenciando por género\n",
        "# Utilice el gráfico de seaborn countplot con hue=\"Sex\"\n",
        "\n",
        "ax = sns.countplot(data=df2, x= 'Survived', hue='Sex')"
      ]
    },
    {
      "cell_type": "code",
      "execution_count": 24,
      "metadata": {
        "id": "WWbxZLQ5ytEP"
      },
      "outputs": [
        {
          "data": {
            "image/png": "[encoded data removed]",
            "text/plain": [
              "<Figure size 640x480 with 1 Axes>"
            ]
          },
          "metadata": {},
          "output_type": "display_data"
        }
      ],
      "source": [
        "# Alumno: Determinar cuantas personas había de cada clase\n",
        "# Utilice el gráfico de seaborn countplot\n",
        "ax = sns.countplot(data=df2, x= 'Pclass')"
      ]
    },
    {
      "cell_type": "code",
      "execution_count": 25,
      "metadata": {
        "id": "aF9zLuKvzAx4"
      },
      "outputs": [
        {
          "data": {
            "image/png": "[encoded data removed]",
            "text/plain": [
              "<Figure size 640x480 with 1 Axes>"
            ]
          },
          "metadata": {},
          "output_type": "display_data"
        }
      ],
      "source": [
        "# Alumno: Determinar cuantas personas había de cada clase\n",
        "# diferenciando por género\n",
        "# Utilice el gráfico de seaborn countplot con hue=\"Sex\"\n",
        "ax = sns.countplot(data=df2, x= 'Pclass', hue='Sex')"
      ]
    },
    {
      "cell_type": "markdown",
      "metadata": {
        "id": "ZdfLMthm0yyY"
      },
      "source": [
        "#### Transformar variables categóricas texto a clases numeradas"
      ]
    },
    {
      "cell_type": "code",
      "execution_count": null,
      "metadata": {
        "id": "GJlDmX_F1ksA"
      },
      "outputs": [],
      "source": [
        "from sklearn.preprocessing import LabelEncoder"
      ]
    },
    {
      "cell_type": "code",
      "execution_count": 26,
      "metadata": {
        "id": "F92KfUW_2CSB"
      },
      "outputs": [],
      "source": [
        "# Alumno, cree un dataset df_cod como copia del que viene trabajando\n",
        "df_cod = df2.copy()"
      ]
    },
    {
      "cell_type": "code",
      "execution_count": null,
      "metadata": {},
      "outputs": [],
      "source": [
        "df"
      ]
    },
    {
      "cell_type": "code",
      "execution_count": 30,
      "metadata": {
        "id": "Lqa4Qq9dEGzr"
      },
      "outputs": [
        {
          "data": {
            "text/html": [
              "<div>\n",
              "<style scoped>\n",
              "    .dataframe tbody tr th:only-of-type {\n",
              "        vertical-align: middle;\n",
              "    }\n",
              "\n",
              "    .dataframe tbody tr th {\n",
              "        vertical-align: top;\n",
              "    }\n",
              "\n",
              "    .dataframe thead th {\n",
              "        text-align: right;\n",
              "    }\n",
              "</style>\n",
              "<table border=\"1\" class=\"dataframe\">\n",
              "  <thead>\n",
              "    <tr style=\"text-align: right;\">\n",
              "      <th></th>\n",
              "      <th>Pclass</th>\n",
              "      <th>Sex</th>\n",
              "      <th>Age</th>\n",
              "      <th>SibSp</th>\n",
              "      <th>Parch</th>\n",
              "      <th>Survived</th>\n",
              "    </tr>\n",
              "  </thead>\n",
              "  <tbody>\n",
              "    <tr>\n",
              "      <th>0</th>\n",
              "      <td>3</td>\n",
              "      <td>1</td>\n",
              "      <td>22.0</td>\n",
              "      <td>1</td>\n",
              "      <td>0</td>\n",
              "      <td>0</td>\n",
              "    </tr>\n",
              "    <tr>\n",
              "      <th>1</th>\n",
              "      <td>1</td>\n",
              "      <td>0</td>\n",
              "      <td>38.0</td>\n",
              "      <td>1</td>\n",
              "      <td>0</td>\n",
              "      <td>1</td>\n",
              "    </tr>\n",
              "    <tr>\n",
              "      <th>2</th>\n",
              "      <td>3</td>\n",
              "      <td>0</td>\n",
              "      <td>26.0</td>\n",
              "      <td>0</td>\n",
              "      <td>0</td>\n",
              "      <td>1</td>\n",
              "    </tr>\n",
              "    <tr>\n",
              "      <th>3</th>\n",
              "      <td>1</td>\n",
              "      <td>0</td>\n",
              "      <td>35.0</td>\n",
              "      <td>1</td>\n",
              "      <td>0</td>\n",
              "      <td>1</td>\n",
              "    </tr>\n",
              "    <tr>\n",
              "      <th>4</th>\n",
              "      <td>3</td>\n",
              "      <td>1</td>\n",
              "      <td>35.0</td>\n",
              "      <td>0</td>\n",
              "      <td>0</td>\n",
              "      <td>0</td>\n",
              "    </tr>\n",
              "  </tbody>\n",
              "</table>\n",
              "</div>"
            ],
            "text/plain": [
              "   Pclass  Sex   Age  SibSp  Parch  Survived\n",
              "0       3    1  22.0      1      0         0\n",
              "1       1    0  38.0      1      0         1\n",
              "2       3    0  26.0      0      0         1\n",
              "3       1    0  35.0      1      0         1\n",
              "4       3    1  35.0      0      0         0"
            ]
          },
          "execution_count": 30,
          "metadata": {},
          "output_type": "execute_result"
        }
      ],
      "source": [
        "# Utiliza el LabelEncoder para codificar la columna Sex, remplazando\n",
        "# esa columna por la nueva en el dataset nuevo que acaba de generar\n",
        "# Recuerde conservar el encoder!\n",
        "from sklearn.preprocessing import LabelEncoder\n",
        "le = LabelEncoder()\n",
        "label_encoding = le.fit_transform(df_cod['Sex'])\n",
        "df_cod['Sex'] = label_encoding\n",
        "df_cod.head()"
      ]
    },
    {
      "cell_type": "code",
      "execution_count": 31,
      "metadata": {
        "id": "WNnJf9vG2dad"
      },
      "outputs": [
        {
          "data": {
            "text/plain": [
              "array(['female', 'male'], dtype=object)"
            ]
          },
          "execution_count": 31,
          "metadata": {},
          "output_type": "execute_result"
        }
      ],
      "source": [
        "# Alumno,  imprimir las clases que ha detectado su encoder\n",
        "# (debe llamar al atributo classes_)\n",
        "le.classes_"
      ]
    },
    {
      "cell_type": "code",
      "execution_count": 32,
      "metadata": {
        "id": "MoTnc2ayGzha"
      },
      "outputs": [
        {
          "data": {
            "text/plain": [
              "<seaborn.axisgrid.FacetGrid at 0x291520ffc50>"
            ]
          },
          "execution_count": 32,
          "metadata": {},
          "output_type": "execute_result"
        },
        {
          "data": {
            "image/png": "[encoded data removed]",
            "text/plain": [
              "<Figure size 500x500 with 1 Axes>"
            ]
          },
          "metadata": {},
          "output_type": "display_data"
        }
      ],
      "source": [
        "# Alumno: Analizar la distribución de la edad\n",
        "sns.displot(x=df_cod['Age'])"
      ]
    },
    {
      "cell_type": "code",
      "execution_count": 35,
      "metadata": {
        "id": "Q1pO_7A_HsqA"
      },
      "outputs": [],
      "source": [
        "# Alumno, cree un dataset df_cod como copia del que viene trabajando\n",
        "df_cod_norm = df_cod.copy()"
      ]
    },
    {
      "cell_type": "code",
      "execution_count": 36,
      "metadata": {
        "id": "55eENaMEHKxA"
      },
      "outputs": [
        {
          "data": {
            "text/html": [
              "<div>\n",
              "<style scoped>\n",
              "    .dataframe tbody tr th:only-of-type {\n",
              "        vertical-align: middle;\n",
              "    }\n",
              "\n",
              "    .dataframe tbody tr th {\n",
              "        vertical-align: top;\n",
              "    }\n",
              "\n",
              "    .dataframe thead th {\n",
              "        text-align: right;\n",
              "    }\n",
              "</style>\n",
              "<table border=\"1\" class=\"dataframe\">\n",
              "  <thead>\n",
              "    <tr style=\"text-align: right;\">\n",
              "      <th></th>\n",
              "      <th>Pclass</th>\n",
              "      <th>Sex</th>\n",
              "      <th>Age</th>\n",
              "      <th>SibSp</th>\n",
              "      <th>Parch</th>\n",
              "      <th>Survived</th>\n",
              "    </tr>\n",
              "  </thead>\n",
              "  <tbody>\n",
              "    <tr>\n",
              "      <th>0</th>\n",
              "      <td>3</td>\n",
              "      <td>1</td>\n",
              "      <td>-0.530377</td>\n",
              "      <td>1</td>\n",
              "      <td>0</td>\n",
              "      <td>0</td>\n",
              "    </tr>\n",
              "    <tr>\n",
              "      <th>1</th>\n",
              "      <td>1</td>\n",
              "      <td>0</td>\n",
              "      <td>0.571831</td>\n",
              "      <td>1</td>\n",
              "      <td>0</td>\n",
              "      <td>1</td>\n",
              "    </tr>\n",
              "    <tr>\n",
              "      <th>2</th>\n",
              "      <td>3</td>\n",
              "      <td>0</td>\n",
              "      <td>-0.254825</td>\n",
              "      <td>0</td>\n",
              "      <td>0</td>\n",
              "      <td>1</td>\n",
              "    </tr>\n",
              "    <tr>\n",
              "      <th>3</th>\n",
              "      <td>1</td>\n",
              "      <td>0</td>\n",
              "      <td>0.365167</td>\n",
              "      <td>1</td>\n",
              "      <td>0</td>\n",
              "      <td>1</td>\n",
              "    </tr>\n",
              "    <tr>\n",
              "      <th>4</th>\n",
              "      <td>3</td>\n",
              "      <td>1</td>\n",
              "      <td>0.365167</td>\n",
              "      <td>0</td>\n",
              "      <td>0</td>\n",
              "      <td>0</td>\n",
              "    </tr>\n",
              "  </tbody>\n",
              "</table>\n",
              "</div>"
            ],
            "text/plain": [
              "   Pclass  Sex       Age  SibSp  Parch  Survived\n",
              "0       3    1 -0.530377      1      0         0\n",
              "1       1    0  0.571831      1      0         1\n",
              "2       3    0 -0.254825      0      0         1\n",
              "3       1    0  0.365167      1      0         1\n",
              "4       3    1  0.365167      0      0         0"
            ]
          },
          "execution_count": 36,
          "metadata": {},
          "output_type": "execute_result"
        }
      ],
      "source": [
        "# Alumno: utilizar StandarScaler para normalizar la column de \"Age\"\n",
        "# Conservar el scaler que lo necesitará para el final\n",
        "from sklearn.preprocessing import StandardScaler\n",
        "scaler = StandardScaler()\n",
        "df_cod_norm.loc[:, 'Age'] = scaler.fit_transform(df_cod_norm[['Age']])\n",
        "df_cod_norm.head()"
      ]
    },
    {
      "cell_type": "markdown",
      "metadata": {
        "id": "7z_SuZlj3gbQ"
      },
      "source": [
        "# Entrenar modelo\n",
        "<img src=\"https://raw.githubusercontent.com/InoveAlumnos/dataset_analytics_python/master/images/Pipeline4.png\" width=\"1000\" align=\"middle\">"
      ]
    },
    {
      "cell_type": "markdown",
      "metadata": {
        "id": "ntY84fHj3q5q"
      },
      "source": [
        "El primer paso es obtener los datos que serán la entrada del sistema (X) y los datos que serán la salida del modelo estimador (y)"
      ]
    },
    {
      "cell_type": "code",
      "execution_count": 38,
      "metadata": {
        "id": "EIg2_OQ43fqZ"
      },
      "outputs": [],
      "source": [
        "# Alumno: genere un numpy array \"X\" que posea todos los feutres (todo menos Survived)\n",
        "# genere un array numpy \"y\" de solo la columna Survived\n",
        "X = df_cod_norm.drop('Survived', axis=1).values\n",
        "y = df_cod_norm['Survived'].values"
      ]
    },
    {
      "cell_type": "code",
      "execution_count": 39,
      "metadata": {
        "id": "80EhnBgTJAiU"
      },
      "outputs": [
        {
          "data": {
            "text/plain": [
              "5"
            ]
          },
          "execution_count": 39,
          "metadata": {},
          "output_type": "execute_result"
        }
      ],
      "source": [
        "# Alumno: obtener la cantidad de features (cantidad de columnas)\n",
        "# y almacenar en in_shape\n",
        "in_shape = X.shape[1]\n",
        "in_shape"
      ]
    },
    {
      "cell_type": "code",
      "execution_count": 40,
      "metadata": {
        "id": "bW7yowUVJI0v"
      },
      "outputs": [],
      "source": [
        "# Alumno: crear una variable out_shape indicando cuandas neuronas de salida desea\n",
        "out_shape = 1"
      ]
    },
    {
      "cell_type": "markdown",
      "metadata": {
        "id": "sbr-SnON4LuM"
      },
      "source": [
        "Siguiente paso es dividir el dataset en entrenamiento (train) y evaluación (test). Utilizaremos el criterio 80%20%"
      ]
    },
    {
      "cell_type": "code",
      "execution_count": 41,
      "metadata": {
        "id": "BVD4YkjS4MW2"
      },
      "outputs": [],
      "source": [
        "# Alumno, generar los dataset de train y test superando en 80%20%\n",
        "from sklearn.model_selection import train_test_split\n",
        "X_train, X_test, y_train, y_test = train_test_split(X, y, test_size=0.2, random_state=42)"
      ]
    },
    {
      "cell_type": "code",
      "execution_count": 42,
      "metadata": {
        "id": "ZRw2jgPl4Xuc"
      },
      "outputs": [],
      "source": [
        "from keras.layers import Dense\n",
        "# Alumno: crear un modelo secuencial de dos capas (hidden y output).\n",
        "# Coloque correctamente el valor de in_shape y out_shape en el modelo\n",
        "# pero seleccione por su cuenta la cantidad de neuronas en la capa oculta\n",
        "model = Sequential()\n",
        "    \n",
        "model.add(Dense(units=64, activation='sigmoid', input_shape=(in_shape,)))\n",
        "model.add(Dense(units=out_shape, activation='sigmoid'))"
      ]
    },
    {
      "cell_type": "code",
      "execution_count": 43,
      "metadata": {
        "id": "BzH_dPq7K8yU"
      },
      "outputs": [],
      "source": [
        "# Alumno: compilar el modelo con binary_crossentropy y métrica de \"accuracy\"\n",
        "model.compile(optimizer=\"Adam\",\n",
        "              loss='binary_crossentropy',\n",
        "              metrics=['accuracy'])"
      ]
    },
    {
      "cell_type": "code",
      "execution_count": 44,
      "metadata": {
        "id": "P1q1Z7voLPYb"
      },
      "outputs": [
        {
          "name": "stdout",
          "output_type": "stream",
          "text": [
            "Epoch 1/80\n",
            "15/15 [==============================] - 1s 21ms/step - loss: 0.6680 - accuracy: 0.6009 - val_loss: 0.6842 - val_accuracy: 0.5478\n",
            "Epoch 2/80\n",
            "15/15 [==============================] - 0s 7ms/step - loss: 0.6565 - accuracy: 0.6009 - val_loss: 0.6748 - val_accuracy: 0.5478\n",
            "Epoch 3/80\n",
            "15/15 [==============================] - 0s 6ms/step - loss: 0.6465 - accuracy: 0.6009 - val_loss: 0.6650 - val_accuracy: 0.5478\n",
            "Epoch 4/80\n",
            "15/15 [==============================] - 0s 6ms/step - loss: 0.6378 - accuracy: 0.6096 - val_loss: 0.6562 - val_accuracy: 0.5565\n",
            "Epoch 5/80\n",
            "15/15 [==============================] - 0s 6ms/step - loss: 0.6274 - accuracy: 0.6140 - val_loss: 0.6523 - val_accuracy: 0.5565\n",
            "Epoch 6/80\n",
            "15/15 [==============================] - 0s 4ms/step - loss: 0.6188 - accuracy: 0.6184 - val_loss: 0.6436 - val_accuracy: 0.5739\n",
            "Epoch 7/80\n",
            "15/15 [==============================] - 0s 5ms/step - loss: 0.6105 - accuracy: 0.6316 - val_loss: 0.6366 - val_accuracy: 0.5913\n",
            "Epoch 8/80\n",
            "15/15 [==============================] - 0s 4ms/step - loss: 0.6026 - accuracy: 0.6447 - val_loss: 0.6295 - val_accuracy: 0.6261\n",
            "Epoch 9/80\n",
            "15/15 [==============================] - 0s 5ms/step - loss: 0.5945 - accuracy: 0.6732 - val_loss: 0.6225 - val_accuracy: 0.6609\n",
            "Epoch 10/80\n",
            "15/15 [==============================] - 0s 4ms/step - loss: 0.5882 - accuracy: 0.6842 - val_loss: 0.6178 - val_accuracy: 0.6696\n",
            "Epoch 11/80\n",
            "15/15 [==============================] - 0s 5ms/step - loss: 0.5809 - accuracy: 0.7237 - val_loss: 0.6088 - val_accuracy: 0.7043\n",
            "Epoch 12/80\n",
            "15/15 [==============================] - 0s 4ms/step - loss: 0.5737 - accuracy: 0.7346 - val_loss: 0.6041 - val_accuracy: 0.7130\n",
            "Epoch 13/80\n",
            "15/15 [==============================] - 0s 5ms/step - loss: 0.5669 - accuracy: 0.7281 - val_loss: 0.6009 - val_accuracy: 0.7130\n",
            "Epoch 14/80\n",
            "15/15 [==============================] - 0s 8ms/step - loss: 0.5598 - accuracy: 0.7390 - val_loss: 0.5932 - val_accuracy: 0.7130\n",
            "Epoch 15/80\n",
            "15/15 [==============================] - 0s 5ms/step - loss: 0.5538 - accuracy: 0.7566 - val_loss: 0.5853 - val_accuracy: 0.7130\n",
            "Epoch 16/80\n",
            "15/15 [==============================] - 0s 9ms/step - loss: 0.5480 - accuracy: 0.7697 - val_loss: 0.5802 - val_accuracy: 0.7130\n",
            "Epoch 17/80\n",
            "15/15 [==============================] - 0s 4ms/step - loss: 0.5426 - accuracy: 0.7588 - val_loss: 0.5767 - val_accuracy: 0.7130\n",
            "Epoch 18/80\n",
            "15/15 [==============================] - 0s 7ms/step - loss: 0.5368 - accuracy: 0.7566 - val_loss: 0.5725 - val_accuracy: 0.7130\n",
            "Epoch 19/80\n",
            "15/15 [==============================] - 0s 6ms/step - loss: 0.5315 - accuracy: 0.7895 - val_loss: 0.5663 - val_accuracy: 0.7217\n",
            "Epoch 20/80\n",
            "15/15 [==============================] - 0s 5ms/step - loss: 0.5256 - accuracy: 0.7895 - val_loss: 0.5647 - val_accuracy: 0.7130\n",
            "Epoch 21/80\n",
            "15/15 [==============================] - 0s 4ms/step - loss: 0.5210 - accuracy: 0.7654 - val_loss: 0.5618 - val_accuracy: 0.7130\n",
            "Epoch 22/80\n",
            "15/15 [==============================] - 0s 4ms/step - loss: 0.5166 - accuracy: 0.7939 - val_loss: 0.5504 - val_accuracy: 0.7391\n",
            "Epoch 23/80\n",
            "15/15 [==============================] - 0s 4ms/step - loss: 0.5121 - accuracy: 0.8158 - val_loss: 0.5477 - val_accuracy: 0.7304\n",
            "Epoch 24/80\n",
            "15/15 [==============================] - 0s 4ms/step - loss: 0.5076 - accuracy: 0.7895 - val_loss: 0.5496 - val_accuracy: 0.7304\n",
            "Epoch 25/80\n",
            "15/15 [==============================] - 0s 4ms/step - loss: 0.5025 - accuracy: 0.8048 - val_loss: 0.5409 - val_accuracy: 0.7478\n",
            "Epoch 26/80\n",
            "15/15 [==============================] - 0s 4ms/step - loss: 0.4984 - accuracy: 0.8092 - val_loss: 0.5339 - val_accuracy: 0.7652\n",
            "Epoch 27/80\n",
            "15/15 [==============================] - 0s 4ms/step - loss: 0.4945 - accuracy: 0.8158 - val_loss: 0.5325 - val_accuracy: 0.7565\n",
            "Epoch 28/80\n",
            "15/15 [==============================] - 0s 4ms/step - loss: 0.4903 - accuracy: 0.8092 - val_loss: 0.5310 - val_accuracy: 0.7478\n",
            "Epoch 29/80\n",
            "15/15 [==============================] - 0s 4ms/step - loss: 0.4876 - accuracy: 0.8246 - val_loss: 0.5241 - val_accuracy: 0.7565\n",
            "Epoch 30/80\n",
            "15/15 [==============================] - 0s 4ms/step - loss: 0.4831 - accuracy: 0.8158 - val_loss: 0.5242 - val_accuracy: 0.7565\n",
            "Epoch 31/80\n",
            "15/15 [==============================] - 0s 4ms/step - loss: 0.4812 - accuracy: 0.8048 - val_loss: 0.5252 - val_accuracy: 0.7652\n",
            "Epoch 32/80\n",
            "15/15 [==============================] - 0s 4ms/step - loss: 0.4764 - accuracy: 0.8158 - val_loss: 0.5183 - val_accuracy: 0.7565\n",
            "Epoch 33/80\n",
            "15/15 [==============================] - 0s 4ms/step - loss: 0.4733 - accuracy: 0.8289 - val_loss: 0.5142 - val_accuracy: 0.7652\n",
            "Epoch 34/80\n",
            "15/15 [==============================] - 0s 4ms/step - loss: 0.4698 - accuracy: 0.8289 - val_loss: 0.5132 - val_accuracy: 0.7652\n",
            "Epoch 35/80\n",
            "15/15 [==============================] - 0s 4ms/step - loss: 0.4680 - accuracy: 0.8224 - val_loss: 0.5087 - val_accuracy: 0.7739\n",
            "Epoch 36/80\n",
            "15/15 [==============================] - 0s 4ms/step - loss: 0.4639 - accuracy: 0.8246 - val_loss: 0.5138 - val_accuracy: 0.7565\n",
            "Epoch 37/80\n",
            "15/15 [==============================] - 0s 4ms/step - loss: 0.4621 - accuracy: 0.8268 - val_loss: 0.5076 - val_accuracy: 0.7652\n",
            "Epoch 38/80\n",
            "15/15 [==============================] - 0s 4ms/step - loss: 0.4594 - accuracy: 0.8180 - val_loss: 0.5027 - val_accuracy: 0.7826\n",
            "Epoch 39/80\n",
            "15/15 [==============================] - 0s 5ms/step - loss: 0.4569 - accuracy: 0.8224 - val_loss: 0.5045 - val_accuracy: 0.7739\n",
            "Epoch 40/80\n",
            "15/15 [==============================] - 0s 7ms/step - loss: 0.4550 - accuracy: 0.8224 - val_loss: 0.5017 - val_accuracy: 0.7826\n",
            "Epoch 41/80\n",
            "15/15 [==============================] - 0s 5ms/step - loss: 0.4530 - accuracy: 0.8202 - val_loss: 0.5000 - val_accuracy: 0.7826\n",
            "Epoch 42/80\n",
            "15/15 [==============================] - 0s 5ms/step - loss: 0.4508 - accuracy: 0.8224 - val_loss: 0.5000 - val_accuracy: 0.7826\n",
            "Epoch 43/80\n",
            "15/15 [==============================] - 0s 9ms/step - loss: 0.4494 - accuracy: 0.8202 - val_loss: 0.4947 - val_accuracy: 0.7913\n",
            "Epoch 44/80\n",
            "15/15 [==============================] - 0s 4ms/step - loss: 0.4488 - accuracy: 0.8070 - val_loss: 0.4904 - val_accuracy: 0.7913\n",
            "Epoch 45/80\n",
            "15/15 [==============================] - 0s 5ms/step - loss: 0.4463 - accuracy: 0.8180 - val_loss: 0.4948 - val_accuracy: 0.7913\n",
            "Epoch 46/80\n",
            "15/15 [==============================] - 0s 4ms/step - loss: 0.4441 - accuracy: 0.8202 - val_loss: 0.4908 - val_accuracy: 0.7826\n",
            "Epoch 47/80\n",
            "15/15 [==============================] - 0s 4ms/step - loss: 0.4432 - accuracy: 0.8092 - val_loss: 0.4891 - val_accuracy: 0.7826\n",
            "Epoch 48/80\n",
            "15/15 [==============================] - 0s 5ms/step - loss: 0.4415 - accuracy: 0.8136 - val_loss: 0.4861 - val_accuracy: 0.7826\n",
            "Epoch 49/80\n",
            "15/15 [==============================] - 0s 4ms/step - loss: 0.4406 - accuracy: 0.8070 - val_loss: 0.4864 - val_accuracy: 0.7826\n",
            "Epoch 50/80\n",
            "15/15 [==============================] - 0s 5ms/step - loss: 0.4390 - accuracy: 0.8092 - val_loss: 0.4872 - val_accuracy: 0.7913\n",
            "Epoch 51/80\n",
            "15/15 [==============================] - 0s 4ms/step - loss: 0.4380 - accuracy: 0.8048 - val_loss: 0.4828 - val_accuracy: 0.7913\n",
            "Epoch 52/80\n",
            "15/15 [==============================] - 0s 4ms/step - loss: 0.4368 - accuracy: 0.8092 - val_loss: 0.4847 - val_accuracy: 0.7826\n",
            "Epoch 53/80\n",
            "15/15 [==============================] - 0s 5ms/step - loss: 0.4358 - accuracy: 0.8048 - val_loss: 0.4843 - val_accuracy: 0.7826\n",
            "Epoch 54/80\n",
            "15/15 [==============================] - 0s 6ms/step - loss: 0.4348 - accuracy: 0.8092 - val_loss: 0.4822 - val_accuracy: 0.7913\n",
            "Epoch 55/80\n",
            "15/15 [==============================] - 0s 5ms/step - loss: 0.4343 - accuracy: 0.8070 - val_loss: 0.4805 - val_accuracy: 0.7913\n",
            "Epoch 56/80\n",
            "15/15 [==============================] - 0s 5ms/step - loss: 0.4331 - accuracy: 0.8092 - val_loss: 0.4824 - val_accuracy: 0.7913\n",
            "Epoch 57/80\n",
            "15/15 [==============================] - 0s 4ms/step - loss: 0.4324 - accuracy: 0.8070 - val_loss: 0.4827 - val_accuracy: 0.7826\n",
            "Epoch 58/80\n",
            "15/15 [==============================] - 0s 4ms/step - loss: 0.4318 - accuracy: 0.8070 - val_loss: 0.4811 - val_accuracy: 0.7913\n",
            "Epoch 59/80\n",
            "15/15 [==============================] - 0s 4ms/step - loss: 0.4314 - accuracy: 0.8070 - val_loss: 0.4806 - val_accuracy: 0.7913\n",
            "Epoch 60/80\n",
            "15/15 [==============================] - 0s 4ms/step - loss: 0.4317 - accuracy: 0.8092 - val_loss: 0.4769 - val_accuracy: 0.8000\n",
            "Epoch 61/80\n",
            "15/15 [==============================] - 0s 5ms/step - loss: 0.4304 - accuracy: 0.8092 - val_loss: 0.4783 - val_accuracy: 0.7913\n",
            "Epoch 62/80\n",
            "15/15 [==============================] - 0s 4ms/step - loss: 0.4298 - accuracy: 0.8026 - val_loss: 0.4793 - val_accuracy: 0.7913\n",
            "Epoch 63/80\n",
            "15/15 [==============================] - 0s 4ms/step - loss: 0.4287 - accuracy: 0.8092 - val_loss: 0.4765 - val_accuracy: 0.7913\n",
            "Epoch 64/80\n",
            "15/15 [==============================] - 0s 4ms/step - loss: 0.4281 - accuracy: 0.8092 - val_loss: 0.4772 - val_accuracy: 0.7913\n",
            "Epoch 65/80\n",
            "15/15 [==============================] - 0s 6ms/step - loss: 0.4281 - accuracy: 0.8114 - val_loss: 0.4740 - val_accuracy: 0.7913\n",
            "Epoch 66/80\n",
            "15/15 [==============================] - 0s 7ms/step - loss: 0.4286 - accuracy: 0.8180 - val_loss: 0.4728 - val_accuracy: 0.7913\n",
            "Epoch 67/80\n",
            "15/15 [==============================] - 0s 4ms/step - loss: 0.4272 - accuracy: 0.8180 - val_loss: 0.4757 - val_accuracy: 0.7913\n",
            "Epoch 68/80\n",
            "15/15 [==============================] - 0s 4ms/step - loss: 0.4275 - accuracy: 0.8070 - val_loss: 0.4803 - val_accuracy: 0.8000\n",
            "Epoch 69/80\n",
            "15/15 [==============================] - 0s 14ms/step - loss: 0.4260 - accuracy: 0.8070 - val_loss: 0.4741 - val_accuracy: 0.7913\n",
            "Epoch 70/80\n",
            "15/15 [==============================] - 0s 5ms/step - loss: 0.4253 - accuracy: 0.8092 - val_loss: 0.4765 - val_accuracy: 0.8000\n",
            "Epoch 71/80\n",
            "15/15 [==============================] - 0s 4ms/step - loss: 0.4255 - accuracy: 0.8070 - val_loss: 0.4738 - val_accuracy: 0.7913\n",
            "Epoch 72/80\n",
            "15/15 [==============================] - 0s 5ms/step - loss: 0.4245 - accuracy: 0.8092 - val_loss: 0.4754 - val_accuracy: 0.7913\n",
            "Epoch 73/80\n",
            "15/15 [==============================] - 0s 5ms/step - loss: 0.4243 - accuracy: 0.8070 - val_loss: 0.4755 - val_accuracy: 0.7913\n",
            "Epoch 74/80\n",
            "15/15 [==============================] - 0s 4ms/step - loss: 0.4237 - accuracy: 0.8092 - val_loss: 0.4751 - val_accuracy: 0.7913\n",
            "Epoch 75/80\n",
            "15/15 [==============================] - 0s 6ms/step - loss: 0.4240 - accuracy: 0.8070 - val_loss: 0.4753 - val_accuracy: 0.7913\n",
            "Epoch 76/80\n",
            "15/15 [==============================] - 0s 4ms/step - loss: 0.4233 - accuracy: 0.8114 - val_loss: 0.4732 - val_accuracy: 0.7913\n",
            "Epoch 77/80\n",
            "15/15 [==============================] - 0s 4ms/step - loss: 0.4231 - accuracy: 0.8136 - val_loss: 0.4775 - val_accuracy: 0.8000\n",
            "Epoch 78/80\n",
            "15/15 [==============================] - 0s 4ms/step - loss: 0.4229 - accuracy: 0.8202 - val_loss: 0.4729 - val_accuracy: 0.7913\n",
            "Epoch 79/80\n",
            "15/15 [==============================] - 0s 4ms/step - loss: 0.4228 - accuracy: 0.8158 - val_loss: 0.4716 - val_accuracy: 0.8000\n",
            "Epoch 80/80\n",
            "15/15 [==============================] - 0s 4ms/step - loss: 0.4224 - accuracy: 0.8180 - val_loss: 0.4718 - val_accuracy: 0.7913\n"
          ]
        }
      ],
      "source": [
        "# Alumno: entrenar el modelo, seleccionar un 20% para el dataset de validacion\n",
        "# Queda a su gusto seleccionar la cantidad de épocas\n",
        "# Almacenar la salida del fit en una variable \"history\"\n",
        "history = model.fit(X_train, y_train, validation_split=0.2 , epochs=80)"
      ]
    },
    {
      "cell_type": "code",
      "execution_count": 55,
      "metadata": {
        "id": "12SHo7bDLpHk"
      },
      "outputs": [
        {
          "data": {
            "image/png": "[encoded data removed]",
            "text/plain": [
              "<Figure size 640x480 with 1 Axes>"
            ]
          },
          "metadata": {},
          "output_type": "display_data"
        }
      ],
      "source": [
        "# Alumno: Graficar la evolución del accuracy durante el entrenamiento\n",
        "# tanto para el dataset de train y el de valid en un gráfico\n",
        "# plot line\n",
        "epoch_count = range(1, len(history.history['accuracy']) + 1)\n",
        "sns.lineplot(x=epoch_count,  y=history.history['accuracy'], label='train')\n",
        "sns.lineplot(x=epoch_count,  y=history.history['val_accuracy'], label='valid')\n",
        "plt.show()"
      ]
    },
    {
      "cell_type": "code",
      "execution_count": 46,
      "metadata": {
        "id": "rMuNNR9HL97_"
      },
      "outputs": [
        {
          "name": "stdout",
          "output_type": "stream",
          "text": [
            "5/5 [==============================] - 0s 2ms/step\n"
          ]
        }
      ],
      "source": [
        "# Alumno: obtener la probabilidad de sobreviir (y_hat_prob)\n",
        "# realizando una prediccion (predict) con el dataset de test\n",
        "y_hat_prob = model.predict(X_test)"
      ]
    },
    {
      "cell_type": "code",
      "execution_count": 47,
      "metadata": {
        "id": "MiLJQi_gMIsS"
      },
      "outputs": [],
      "source": [
        "# Alumno: transformar las probabilidads en 0 y 1, si la probabilidad es\n",
        "# mayor o igual a 0.5 definir que la persona sobrevivió (1)\n",
        "# Estos valores guardarlos en y_hat\n",
        "y_hat = [1 if x >= 0.5 else 0 for x in y_hat_prob]"
      ]
    },
    {
      "cell_type": "markdown",
      "metadata": {
        "id": "w3IfjUuI4XnD"
      },
      "source": [
        "# Validar modelo\n",
        "<img src=\"https://raw.githubusercontent.com/InoveAlumnos/dataset_analytics_python/master/images/Pipeline5.png\" width=\"1000\" align=\"middle\">"
      ]
    },
    {
      "cell_type": "code",
      "execution_count": 48,
      "metadata": {
        "id": "CMKONtv55zL8"
      },
      "outputs": [
        {
          "data": {
            "text/plain": [
              "0.7412587412587412"
            ]
          },
          "execution_count": 48,
          "metadata": {},
          "output_type": "execute_result"
        }
      ],
      "source": [
        "# Alumno, calcular la exactitud (accuracy) de su modelo\n",
        "from sklearn.metrics import accuracy_score\n",
        "accuracy_score(y_test, y_hat, normalize=True)"
      ]
    },
    {
      "cell_type": "code",
      "execution_count": 49,
      "metadata": {
        "id": "TeLeYLYz6ZhO"
      },
      "outputs": [
        {
          "data": {
            "image/png": "[encoded data removed]",
            "text/plain": [
              "<Figure size 640x480 with 2 Axes>"
            ]
          },
          "metadata": {},
          "output_type": "display_data"
        }
      ],
      "source": [
        "# Alumno, dibujar la matriz de confusion\n",
        "# definir display_labels=['NO SOBREVIVE', 'SOBREVIVE']\n",
        "from sklearn.metrics import confusion_matrix, ConfusionMatrixDisplay\n",
        "cm = confusion_matrix(y_test, y_hat)\n",
        "cmd = ConfusionMatrixDisplay(cm, display_labels=['NO SOBREVIVE', 'SOBREVIVE'])\n",
        "cmd.plot(cmap=plt.cm.Blues)\n",
        "plt.show()"
      ]
    },
    {
      "cell_type": "markdown",
      "metadata": {
        "id": "9dZxGbjG96jR"
      },
      "source": [
        "# Utilizar modelo\n",
        "<img src=\"https://raw.githubusercontent.com/InoveAlumnos/dataset_analytics_python/master/images/Pipeline6.png\" width=\"1000\" align=\"middle\">"
      ]
    },
    {
      "cell_type": "code",
      "execution_count": 54,
      "metadata": {
        "id": "7YH0C6473i5f"
      },
      "outputs": [
        {
          "name": "stdout",
          "output_type": "stream",
          "text": [
            "1/1 [==============================] - 0s 25ms/step\n",
            "Game Over\n",
            "Probabilidad de haber sobrevivido: 0.002319245832040906\n"
          ]
        },
        {
          "name": "stderr",
          "output_type": "stream",
          "text": [
            "c:\\Users\\jorge\\AppData\\Local\\Programs\\Python\\Python311\\Lib\\site-packages\\sklearn\\base.py:439: UserWarning: X does not have valid feature names, but StandardScaler was fitted with feature names\n",
            "  warnings.warn(\n"
          ]
        }
      ],
      "source": [
        "# Alumno, pona a prueba el modelo, ingrese datos ficticios y divertase un rato :)\n",
        "# Recordar que los datos de genero (Sex) ahora son numéricos para el modelo (0 o 1)\n",
        "# Debe utilizar el encoder que se generó antes para convertir los nuevos valores\n",
        "# Recordar que los datos de edad (Age) se normalizaron, debe utilizar ese\n",
        "# scaler generado para transformarlo\n",
        "Pclass = int(input(\"Ingrese la edad: \"))\n",
        "Sex = input(\"ingrese el sexo: \")\n",
        "Age = 6\n",
        "SibSp = 2\n",
        "Parch = 0\n",
        "\n",
        "# Casteamos el array que devuelve le.transform a int\n",
        "sex_encoded = int(le.transform([Sex]))\n",
        "# Normalizar la edad con el normalizador\n",
        "age_norm = float(scaler.transform([[Age]]))\n",
        "# Crear el array de entrada\n",
        "X_prueba = np.array([Pclass, sex_encoded, age_norm, SibSp, Parch])\n",
        "# El sistema espera 1 fila y N columnas, hay que hacer reshape\n",
        "X_prueba = X_prueba.reshape(1, -1)\n",
        "y_prueba = float(model.predict(X_prueba))\n",
        "\n",
        "if y_prueba >= 0.5:\n",
        "    print('Sobrevivi!')\n",
        "else:\n",
        "    print('Game Over')\n",
        "\n",
        "print('Probabilidad de haber sobrevivido:', y_prueba)\n"
      ]
    }
  ],
  "metadata": {
    "colab": {
      "collapsed_sections": [],
      "name": "1_titanic.ipynb",
      "provenance": [],
      "toc_visible": true
    },
    "kernelspec": {
      "display_name": "Python 3",
      "name": "python3"
    },
    "language_info": {
      "codemirror_mode": {
        "name": "ipython",
        "version": 3
      },
      "file_extension": ".py",
      "mimetype": "text/x-python",
      "name": "python",
      "nbconvert_exporter": "python",
      "pygments_lexer": "ipython3",
      "version": "3.11.3"
    }
  },
  "nbformat": 4,
  "nbformat_minor": 0
}
